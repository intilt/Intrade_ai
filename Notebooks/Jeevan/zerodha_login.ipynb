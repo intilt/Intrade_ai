{
  "cells": [
    {
      "cell_type": "markdown",
      "metadata": {
        "colab_type": "text",
        "id": "view-in-github"
      },
      "source": [
        "<a href=\"https://colab.research.google.com/github/ankit-quant/Data-Harrvesting--1/blob/main/Webinar_Data_Harvesting_Part_1.ipynb\" target=\"_parent\"><img src=\"https://colab.research.google.com/assets/colab-badge.svg\" alt=\"Open In Colab\"/></a>"
      ]
    },
    {
      "cell_type": "markdown",
      "metadata": {
        "id": "nVXCc5D_q-l0"
      },
      "source": [
        "## Agenda - Part - 1\n",
        "1. Understand KiteConnect Login\n",
        "2. Automate KiteConnect Login\n",
        "3. Understand Jugaad Trader & Login"
      ]
    },
    {
      "cell_type": "code",
      "execution_count": 1,
      "metadata": {
        "id": "_kdnIpvXfmUx"
      },
      "outputs": [],
      "source": [
        "import pandas as pd\n",
        "import numpy as np\n",
        "import os\n",
        "import pyotp\n",
        "import datetime as dt\n",
        "import json\n",
        "import time\n",
        "import requests\n",
        "\n",
        "from kiteconnect import KiteConnect"
      ]
    },
    {
      "cell_type": "code",
      "execution_count": 2,
      "metadata": {
        "id": "DwVZT0Zkr0qs"
      },
      "outputs": [],
      "source": [
        "# UserName\n",
        "# Password\n",
        "# TOTP Seed/Key\n",
        "creds = {'user_id':'ET5487','password':'StoicEmperor@!77','totp_key':'JXLCTUCANDYLJN7FLRLVU6DSFXQKQ6YV','api_key':'elrfps73mpn9aou4', 'api_secret':'tqoel0f8kg0yzkipd5d8wee0b3our5yr' }"
      ]
    },
    {
      "cell_type": "code",
      "execution_count": 3,
      "metadata": {
        "id": "Vq78n02-tTil"
      },
      "outputs": [],
      "source": [
        "base_url = \"https://kite.zerodha.com\"\n",
        "login_url = \"https://kite.zerodha.com/api/login\"\n",
        "twofa_url = \"https://kite.zerodha.com/api/twofa\"\n",
        "instruments_url = \"https://api.kite.trade/instruments\""
      ]
    },
    {
      "cell_type": "markdown",
      "metadata": {
        "id": "tG6kWxyxtgX7"
      },
      "source": [
        "##### Login using Zerodha Credentials"
      ]
    },
    {
      "cell_type": "code",
      "execution_count": 19,
      "metadata": {
        "id": "-TqrVdfEvH-A"
      },
      "outputs": [],
      "source": [
        "session = requests.Session()\n",
        "response = session.post(login_url,data={'user_id':creds['user_id'],'password':creds['password']})\n",
        "request_id = json.loads(response.text)['data']['request_id']\n",
        "twofa_pin = pyotp.TOTP(creds['totp_key']).now()\n",
        "response_1 = session.post(twofa_url,data={'user_id':creds['user_id'],'request_id':request_id,'twofa_value':twofa_pin,'twofa_type':'totp'})\n",
        "kite = KiteConnect(api_key=creds['api_key'])\n",
        "kite_url = kite.login_url()"
      ]
    },
    {
      "cell_type": "code",
      "execution_count": 20,
      "metadata": {
        "colab": {
          "base_uri": "https://localhost:8080/"
        },
        "id": "MnBXlSPv0i-P",
        "outputId": "e727e5c5-7b38-4419-8446-b2be749789de"
      },
      "outputs": [
        {
          "name": "stdout",
          "output_type": "stream",
          "text": [
            "Successful Login with Request Token:AArBK6Ac1ZNKdSP00KGDcsECDpXs3a4v\n"
          ]
        }
      ],
      "source": [
        "try:\n",
        "  session.get(kite_url)\n",
        "except Exception as e:\n",
        "  e_msg = str(e)\n",
        "  #print(e_msg)\n",
        "  request_token = e_msg.split('request_token=')[1].split(' ')[0].split('&action')[0]\n",
        "  print('Successful Login with Request Token:{}'.format(request_token))\n",
        "\n",
        "access_token = kite.generate_session(request_token,creds['api_secret'])['access_token']\n",
        "kite.set_access_token(access_token)"
      ]
    },
    {
      "cell_type": "code",
      "execution_count": 21,
      "metadata": {
        "colab": {
          "base_uri": "https://localhost:8080/"
        },
        "id": "noyQa-N3zpLx",
        "outputId": "365b3847-f632-4251-8f4c-96fb9e771266"
      },
      "outputs": [
        {
          "data": {
            "text/plain": [
              "'V5R3rPTLAnjoBcWFnSfcJTu8lKtkmB7j'"
            ]
          },
          "execution_count": 21,
          "metadata": {},
          "output_type": "execute_result"
        }
      ],
      "source": [
        "access_token"
      ]
    },
    {
      "cell_type": "code",
      "execution_count": 23,
      "metadata": {
        "colab": {
          "base_uri": "https://localhost:8080/",
          "height": 196
        },
        "id": "e1Ro5THN2Khu",
        "outputId": "51705526-5683-43f6-f44c-fdd249958500"
      },
      "outputs": [
        {
          "data": {
            "text/html": [
              "<div>\n",
              "<style scoped>\n",
              "    .dataframe tbody tr th:only-of-type {\n",
              "        vertical-align: middle;\n",
              "    }\n",
              "\n",
              "    .dataframe tbody tr th {\n",
              "        vertical-align: top;\n",
              "    }\n",
              "\n",
              "    .dataframe thead th {\n",
              "        text-align: right;\n",
              "    }\n",
              "</style>\n",
              "<table border=\"1\" class=\"dataframe\">\n",
              "  <thead>\n",
              "    <tr style=\"text-align: right;\">\n",
              "      <th></th>\n",
              "      <th>placed_by</th>\n",
              "      <th>order_id</th>\n",
              "      <th>exchange_order_id</th>\n",
              "      <th>parent_order_id</th>\n",
              "      <th>status</th>\n",
              "      <th>status_message</th>\n",
              "      <th>status_message_raw</th>\n",
              "      <th>order_timestamp</th>\n",
              "      <th>exchange_update_timestamp</th>\n",
              "      <th>exchange_timestamp</th>\n",
              "      <th>...</th>\n",
              "      <th>price</th>\n",
              "      <th>trigger_price</th>\n",
              "      <th>average_price</th>\n",
              "      <th>filled_quantity</th>\n",
              "      <th>pending_quantity</th>\n",
              "      <th>cancelled_quantity</th>\n",
              "      <th>market_protection</th>\n",
              "      <th>meta</th>\n",
              "      <th>tag</th>\n",
              "      <th>guid</th>\n",
              "    </tr>\n",
              "  </thead>\n",
              "  <tbody>\n",
              "    <tr>\n",
              "      <th>0</th>\n",
              "      <td>ET5487</td>\n",
              "      <td>230105004219939</td>\n",
              "      <td>1100000024139742</td>\n",
              "      <td>None</td>\n",
              "      <td>COMPLETE</td>\n",
              "      <td>None</td>\n",
              "      <td>None</td>\n",
              "      <td>2023-01-05 14:19:11</td>\n",
              "      <td>2023-01-05 14:19:11</td>\n",
              "      <td>2023-01-05 14:19:11</td>\n",
              "      <td>...</td>\n",
              "      <td>0</td>\n",
              "      <td>0</td>\n",
              "      <td>332.25</td>\n",
              "      <td>1</td>\n",
              "      <td>0</td>\n",
              "      <td>0</td>\n",
              "      <td>0</td>\n",
              "      <td>{}</td>\n",
              "      <td>None</td>\n",
              "      <td>01X2GWYpc9K3vLV</td>\n",
              "    </tr>\n",
              "    <tr>\n",
              "      <th>1</th>\n",
              "      <td>ADMINSQF</td>\n",
              "      <td>230105005204292</td>\n",
              "      <td>1100000028497423</td>\n",
              "      <td>None</td>\n",
              "      <td>COMPLETE</td>\n",
              "      <td>None</td>\n",
              "      <td>None</td>\n",
              "      <td>2023-01-05 15:21:05</td>\n",
              "      <td>2023-01-05 15:21:05</td>\n",
              "      <td>2023-01-05 15:21:05</td>\n",
              "      <td>...</td>\n",
              "      <td>0</td>\n",
              "      <td>0</td>\n",
              "      <td>333.50</td>\n",
              "      <td>1</td>\n",
              "      <td>0</td>\n",
              "      <td>0</td>\n",
              "      <td>0</td>\n",
              "      <td>{}</td>\n",
              "      <td>None</td>\n",
              "      <td>None</td>\n",
              "    </tr>\n",
              "  </tbody>\n",
              "</table>\n",
              "<p>2 rows × 32 columns</p>\n",
              "</div>"
            ],
            "text/plain": [
              "  placed_by         order_id exchange_order_id parent_order_id    status  \\\n",
              "0    ET5487  230105004219939  1100000024139742            None  COMPLETE   \n",
              "1  ADMINSQF  230105005204292  1100000028497423            None  COMPLETE   \n",
              "\n",
              "  status_message status_message_raw     order_timestamp  \\\n",
              "0           None               None 2023-01-05 14:19:11   \n",
              "1           None               None 2023-01-05 15:21:05   \n",
              "\n",
              "  exchange_update_timestamp  exchange_timestamp  ... price  trigger_price  \\\n",
              "0       2023-01-05 14:19:11 2023-01-05 14:19:11  ...     0              0   \n",
              "1       2023-01-05 15:21:05 2023-01-05 15:21:05  ...     0              0   \n",
              "\n",
              "  average_price filled_quantity  pending_quantity cancelled_quantity  \\\n",
              "0        332.25               1                 0                  0   \n",
              "1        333.50               1                 0                  0   \n",
              "\n",
              "  market_protection meta   tag             guid  \n",
              "0                 0   {}  None  01X2GWYpc9K3vLV  \n",
              "1                 0   {}  None             None  \n",
              "\n",
              "[2 rows x 32 columns]"
            ]
          },
          "execution_count": 23,
          "metadata": {},
          "output_type": "execute_result"
        }
      ],
      "source": [
        "pd.DataFrame(kite.orders())"
      ]
    },
    {
      "cell_type": "markdown",
      "metadata": {
        "id": "S3hIMliB2mpQ"
      },
      "source": [
        "#### Replicating Zerodha Login using Jugaad Trader"
      ]
    },
    {
      "cell_type": "code",
      "execution_count": 35,
      "metadata": {
        "id": "ocECsIx13Apo"
      },
      "outputs": [],
      "source": [
        "from jugaad_trader import Zerodha"
      ]
    },
    {
      "cell_type": "code",
      "execution_count": 48,
      "metadata": {
        "id": "FHHwjU8p3MdT"
      },
      "outputs": [],
      "source": [
        "kite1 = Zerodha()\n",
        "kite1.user_id=creds['user_id']\n",
        "kite1.password = creds['password']\n",
        "json_res = kite1.login_step1()\n",
        "twofa = pyotp.TOTP(creds['totp_key']).now()\n",
        "kite1.twofa=twofa\n",
        "json_res_1 = kite1.login_step2(json_res)\n",
        "kite1.enc_token = kite1.r.cookies['enctoken']"
      ]
    },
    {
      "cell_type": "code",
      "execution_count": 51,
      "metadata": {
        "colab": {
          "base_uri": "https://localhost:8080/",
          "height": 196
        },
        "id": "EJFeYIJj4pcW",
        "outputId": "7a011dfa-758e-4ac6-ae0a-68b5ddd890b4"
      },
      "outputs": [
        {
          "data": {
            "text/html": [
              "<div>\n",
              "<style scoped>\n",
              "    .dataframe tbody tr th:only-of-type {\n",
              "        vertical-align: middle;\n",
              "    }\n",
              "\n",
              "    .dataframe tbody tr th {\n",
              "        vertical-align: top;\n",
              "    }\n",
              "\n",
              "    .dataframe thead th {\n",
              "        text-align: right;\n",
              "    }\n",
              "</style>\n",
              "<table border=\"1\" class=\"dataframe\">\n",
              "  <thead>\n",
              "    <tr style=\"text-align: right;\">\n",
              "      <th></th>\n",
              "      <th>placed_by</th>\n",
              "      <th>order_id</th>\n",
              "      <th>exchange_order_id</th>\n",
              "      <th>parent_order_id</th>\n",
              "      <th>status</th>\n",
              "      <th>status_message</th>\n",
              "      <th>status_message_raw</th>\n",
              "      <th>order_timestamp</th>\n",
              "      <th>exchange_update_timestamp</th>\n",
              "      <th>exchange_timestamp</th>\n",
              "      <th>...</th>\n",
              "      <th>price</th>\n",
              "      <th>trigger_price</th>\n",
              "      <th>average_price</th>\n",
              "      <th>filled_quantity</th>\n",
              "      <th>pending_quantity</th>\n",
              "      <th>cancelled_quantity</th>\n",
              "      <th>market_protection</th>\n",
              "      <th>meta</th>\n",
              "      <th>tag</th>\n",
              "      <th>guid</th>\n",
              "    </tr>\n",
              "  </thead>\n",
              "  <tbody>\n",
              "    <tr>\n",
              "      <th>0</th>\n",
              "      <td>ET5487</td>\n",
              "      <td>230105004219939</td>\n",
              "      <td>1100000024139742</td>\n",
              "      <td>None</td>\n",
              "      <td>COMPLETE</td>\n",
              "      <td>None</td>\n",
              "      <td>None</td>\n",
              "      <td>2023-01-05 14:19:11</td>\n",
              "      <td>2023-01-05 14:19:11</td>\n",
              "      <td>2023-01-05 14:19:11</td>\n",
              "      <td>...</td>\n",
              "      <td>0</td>\n",
              "      <td>0</td>\n",
              "      <td>332.25</td>\n",
              "      <td>1</td>\n",
              "      <td>0</td>\n",
              "      <td>0</td>\n",
              "      <td>0</td>\n",
              "      <td>{}</td>\n",
              "      <td>None</td>\n",
              "      <td>01X2GWYpc9K3vLV</td>\n",
              "    </tr>\n",
              "    <tr>\n",
              "      <th>1</th>\n",
              "      <td>ADMINSQF</td>\n",
              "      <td>230105005204292</td>\n",
              "      <td>1100000028497423</td>\n",
              "      <td>None</td>\n",
              "      <td>COMPLETE</td>\n",
              "      <td>None</td>\n",
              "      <td>None</td>\n",
              "      <td>2023-01-05 15:21:05</td>\n",
              "      <td>2023-01-05 15:21:05</td>\n",
              "      <td>2023-01-05 15:21:05</td>\n",
              "      <td>...</td>\n",
              "      <td>0</td>\n",
              "      <td>0</td>\n",
              "      <td>333.50</td>\n",
              "      <td>1</td>\n",
              "      <td>0</td>\n",
              "      <td>0</td>\n",
              "      <td>0</td>\n",
              "      <td>{}</td>\n",
              "      <td>None</td>\n",
              "      <td>None</td>\n",
              "    </tr>\n",
              "  </tbody>\n",
              "</table>\n",
              "<p>2 rows × 32 columns</p>\n",
              "</div>"
            ],
            "text/plain": [
              "  placed_by         order_id exchange_order_id parent_order_id    status  \\\n",
              "0    ET5487  230105004219939  1100000024139742            None  COMPLETE   \n",
              "1  ADMINSQF  230105005204292  1100000028497423            None  COMPLETE   \n",
              "\n",
              "  status_message status_message_raw     order_timestamp  \\\n",
              "0           None               None 2023-01-05 14:19:11   \n",
              "1           None               None 2023-01-05 15:21:05   \n",
              "\n",
              "  exchange_update_timestamp  exchange_timestamp  ... price  trigger_price  \\\n",
              "0       2023-01-05 14:19:11 2023-01-05 14:19:11  ...     0              0   \n",
              "1       2023-01-05 15:21:05 2023-01-05 15:21:05  ...     0              0   \n",
              "\n",
              "  average_price filled_quantity  pending_quantity cancelled_quantity  \\\n",
              "0        332.25               1                 0                  0   \n",
              "1        333.50               1                 0                  0   \n",
              "\n",
              "  market_protection meta   tag             guid  \n",
              "0                 0   {}  None  01X2GWYpc9K3vLV  \n",
              "1                 0   {}  None             None  \n",
              "\n",
              "[2 rows x 32 columns]"
            ]
          },
          "execution_count": 51,
          "metadata": {},
          "output_type": "execute_result"
        }
      ],
      "source": [
        "pd.DataFrame(kite1.orders())"
      ]
    }
  ],
  "metadata": {
    "colab": {
      "authorship_tag": "ABX9TyPJQwPSwHYnb4Uo60b2q3qt",
      "include_colab_link": true,
      "provenance": []
    },
    "kernelspec": {
      "display_name": "Python 3.10.8 ('intrade')",
      "language": "python",
      "name": "python3"
    },
    "language_info": {
      "name": "python",
      "version": "3.10.8"
    },
    "vscode": {
      "interpreter": {
        "hash": "4f9efcd63b349acaed8a8c685f7ed60827aaf1034e0a547a53b021141a66914b"
      }
    }
  },
  "nbformat": 4,
  "nbformat_minor": 0
}
