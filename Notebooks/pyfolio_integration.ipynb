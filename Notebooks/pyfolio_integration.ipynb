{
 "cells": [
  {
   "cell_type": "code",
   "execution_count": 1,
   "metadata": {},
   "outputs": [
    {
     "name": "stderr",
     "output_type": "stream",
     "text": [
      "c:\\Users\\Amrit\\AppData\\Local\\Programs\\Python\\Python39\\lib\\site-packages\\pyfolio\\pos.py:26: UserWarning: Module \"zipline.assets\" not found; mutltipliers will not be applied to position notionals.\n",
      "  warnings.warn(\n"
     ]
    }
   ],
   "source": [
    "import pyfolio as pf\n",
    "import matplotlib.pyplot as plt\n",
    "import pandas as pd\n",
    "import backtrader as bt"
   ]
  },
  {
   "cell_type": "code",
   "execution_count": 5,
   "metadata": {},
   "outputs": [],
   "source": [
    "import backtrader as bt\n",
    "import pandas as pd\n",
    "\n",
    "# Load the data into a Pandas DataFrame\n",
    "df = pd.read_csv('../Data/Nifty/nifty_1day_continous.csv')\n",
    "\n",
    "# Convert the DataFrame to a backtrader data feed\n",
    "data = bt.feeds.PandasData(dataname=df)\n"
   ]
  },
  {
   "cell_type": "code",
   "execution_count": 6,
   "metadata": {},
   "outputs": [
    {
     "ename": "AttributeError",
     "evalue": "'int' object has no attribute 'to_pydatetime'",
     "output_type": "error",
     "traceback": [
      "\u001b[1;31m---------------------------------------------------------------------------\u001b[0m",
      "\u001b[1;31mAttributeError\u001b[0m                            Traceback (most recent call last)",
      "Cell \u001b[1;32mIn [6], line 28\u001b[0m\n\u001b[0;32m     25\u001b[0m cerebro\u001b[39m.\u001b[39maddstrategy(MyStrategy)\n\u001b[0;32m     27\u001b[0m \u001b[39m# Run the backtest\u001b[39;00m\n\u001b[1;32m---> 28\u001b[0m cerebro\u001b[39m.\u001b[39;49mrun()\n\u001b[0;32m     30\u001b[0m \u001b[39m# Analyze the results\u001b[39;00m\n\u001b[0;32m     31\u001b[0m \u001b[39mprint\u001b[39m(\u001b[39m'\u001b[39m\u001b[39mFinal portfolio value:\u001b[39m\u001b[39m'\u001b[39m, cerebro\u001b[39m.\u001b[39mbroker\u001b[39m.\u001b[39mgetvalue())\n",
      "File \u001b[1;32mc:\\Users\\Amrit\\AppData\\Local\\Programs\\Python\\Python39\\lib\\site-packages\\backtrader\\cerebro.py:1127\u001b[0m, in \u001b[0;36mCerebro.run\u001b[1;34m(self, **kwargs)\u001b[0m\n\u001b[0;32m   1123\u001b[0m \u001b[39mif\u001b[39;00m \u001b[39mnot\u001b[39;00m \u001b[39mself\u001b[39m\u001b[39m.\u001b[39m_dooptimize \u001b[39mor\u001b[39;00m \u001b[39mself\u001b[39m\u001b[39m.\u001b[39mp\u001b[39m.\u001b[39mmaxcpus \u001b[39m==\u001b[39m \u001b[39m1\u001b[39m:\n\u001b[0;32m   1124\u001b[0m     \u001b[39m# If no optimmization is wished ... or 1 core is to be used\u001b[39;00m\n\u001b[0;32m   1125\u001b[0m     \u001b[39m# let's skip process \"spawning\"\u001b[39;00m\n\u001b[0;32m   1126\u001b[0m     \u001b[39mfor\u001b[39;00m iterstrat \u001b[39min\u001b[39;00m iterstrats:\n\u001b[1;32m-> 1127\u001b[0m         runstrat \u001b[39m=\u001b[39m \u001b[39mself\u001b[39;49m\u001b[39m.\u001b[39;49mrunstrategies(iterstrat)\n\u001b[0;32m   1128\u001b[0m         \u001b[39mself\u001b[39m\u001b[39m.\u001b[39mrunstrats\u001b[39m.\u001b[39mappend(runstrat)\n\u001b[0;32m   1129\u001b[0m         \u001b[39mif\u001b[39;00m \u001b[39mself\u001b[39m\u001b[39m.\u001b[39m_dooptimize:\n",
      "File \u001b[1;32mc:\\Users\\Amrit\\AppData\\Local\\Programs\\Python\\Python39\\lib\\site-packages\\backtrader\\cerebro.py:1212\u001b[0m, in \u001b[0;36mCerebro.runstrategies\u001b[1;34m(self, iterstrat, predata)\u001b[0m\n\u001b[0;32m   1210\u001b[0m         data\u001b[39m.\u001b[39m_start()\n\u001b[0;32m   1211\u001b[0m         \u001b[39mif\u001b[39;00m \u001b[39mself\u001b[39m\u001b[39m.\u001b[39m_dopreload:\n\u001b[1;32m-> 1212\u001b[0m             data\u001b[39m.\u001b[39;49mpreload()\n\u001b[0;32m   1214\u001b[0m \u001b[39mfor\u001b[39;00m stratcls, sargs, skwargs \u001b[39min\u001b[39;00m iterstrat:\n\u001b[0;32m   1215\u001b[0m     sargs \u001b[39m=\u001b[39m \u001b[39mself\u001b[39m\u001b[39m.\u001b[39mdatas \u001b[39m+\u001b[39m \u001b[39mlist\u001b[39m(sargs)\n",
      "File \u001b[1;32mc:\\Users\\Amrit\\AppData\\Local\\Programs\\Python\\Python39\\lib\\site-packages\\backtrader\\feed.py:438\u001b[0m, in \u001b[0;36mAbstractDataBase.preload\u001b[1;34m(self)\u001b[0m\n\u001b[0;32m    437\u001b[0m \u001b[39mdef\u001b[39;00m \u001b[39mpreload\u001b[39m(\u001b[39mself\u001b[39m):\n\u001b[1;32m--> 438\u001b[0m     \u001b[39mwhile\u001b[39;00m \u001b[39mself\u001b[39;49m\u001b[39m.\u001b[39;49mload():\n\u001b[0;32m    439\u001b[0m         \u001b[39mpass\u001b[39;00m\n\u001b[0;32m    441\u001b[0m     \u001b[39mself\u001b[39m\u001b[39m.\u001b[39m_last()\n",
      "File \u001b[1;32mc:\\Users\\Amrit\\AppData\\Local\\Programs\\Python\\Python39\\lib\\site-packages\\backtrader\\feed.py:479\u001b[0m, in \u001b[0;36mAbstractDataBase.load\u001b[1;34m(self)\u001b[0m\n\u001b[0;32m    476\u001b[0m     \u001b[39mreturn\u001b[39;00m \u001b[39mTrue\u001b[39;00m\n\u001b[0;32m    478\u001b[0m \u001b[39mif\u001b[39;00m \u001b[39mnot\u001b[39;00m \u001b[39mself\u001b[39m\u001b[39m.\u001b[39m_fromstack(stash\u001b[39m=\u001b[39m\u001b[39mTrue\u001b[39;00m):\n\u001b[1;32m--> 479\u001b[0m     _loadret \u001b[39m=\u001b[39m \u001b[39mself\u001b[39;49m\u001b[39m.\u001b[39;49m_load()\n\u001b[0;32m    480\u001b[0m     \u001b[39mif\u001b[39;00m \u001b[39mnot\u001b[39;00m _loadret:  \u001b[39m# no bar use force to make sure in exactbars\u001b[39;00m\n\u001b[0;32m    481\u001b[0m         \u001b[39m# the pointer is undone this covers especially (but not\u001b[39;00m\n\u001b[0;32m    482\u001b[0m         \u001b[39m# uniquely) the case in which the last bar has been seen\u001b[39;00m\n\u001b[0;32m    483\u001b[0m         \u001b[39m# and a backwards would ruin pointer accounting in the\u001b[39;00m\n\u001b[0;32m    484\u001b[0m         \u001b[39m# \"stop\" method of the strategy\u001b[39;00m\n\u001b[0;32m    485\u001b[0m         \u001b[39mself\u001b[39m\u001b[39m.\u001b[39mbackwards(force\u001b[39m=\u001b[39m\u001b[39mTrue\u001b[39;00m)  \u001b[39m# undo data pointer\u001b[39;00m\n",
      "File \u001b[1;32mc:\\Users\\Amrit\\AppData\\Local\\Programs\\Python\\Python39\\lib\\site-packages\\backtrader\\feeds\\pandafeed.py:268\u001b[0m, in \u001b[0;36mPandasData._load\u001b[1;34m(self)\u001b[0m\n\u001b[0;32m    265\u001b[0m     tstamp \u001b[39m=\u001b[39m \u001b[39mself\u001b[39m\u001b[39m.\u001b[39mp\u001b[39m.\u001b[39mdataname\u001b[39m.\u001b[39miloc[\u001b[39mself\u001b[39m\u001b[39m.\u001b[39m_idx, coldtime]\n\u001b[0;32m    267\u001b[0m \u001b[39m# convert to float via datetime and store it\u001b[39;00m\n\u001b[1;32m--> 268\u001b[0m dt \u001b[39m=\u001b[39m tstamp\u001b[39m.\u001b[39;49mto_pydatetime()\n\u001b[0;32m    269\u001b[0m dtnum \u001b[39m=\u001b[39m date2num(dt)\n\u001b[0;32m    270\u001b[0m \u001b[39mself\u001b[39m\u001b[39m.\u001b[39mlines\u001b[39m.\u001b[39mdatetime[\u001b[39m0\u001b[39m] \u001b[39m=\u001b[39m dtnum\n",
      "\u001b[1;31mAttributeError\u001b[0m: 'int' object has no attribute 'to_pydatetime'"
     ]
    }
   ],
   "source": [
    "# Define the parameters for the strategy\n",
    "sma_period = 20\n",
    "bollinger_stddev = 2\n",
    "\n",
    "# Create a Strategy class that implements the trading strategy\n",
    "class MyStrategy(bt.Strategy):\n",
    "    def __init__(self):\n",
    "        # Calculate the Simple Moving Average (SMA) and Bollinger Bands\n",
    "        self.sma = bt.indicators.SMA(self.data, period=sma_period)\n",
    "        self.bollinger = bt.indicators.BollingerBands(self.data, devfactor=bollinger_stddev)\n",
    "        \n",
    "    def next(self):\n",
    "        # If the SMA and middle Bollinger Band line cross, then buy if the data goes up\n",
    "        # or sell if the data goes down\n",
    "        if (self.data > self.sma) and (self.data > self.bollinger.mid):\n",
    "            self.buy()\n",
    "        elif (self.data < self.sma) and (self.data < self.bollinger.mid):\n",
    "            self.sell()\n",
    "\n",
    "# Create a Cerebro object to run the backtest\n",
    "cerebro = bt.Cerebro()\n",
    "\n",
    "# Add the data and the Strategy to the Cerebro object\n",
    "cerebro.adddata(data)\n",
    "cerebro.addstrategy(MyStrategy)\n",
    "\n",
    "# Run the backtest\n",
    "cerebro.run()\n",
    "\n",
    "# Analyze the results\n",
    "print('Final portfolio value:', cerebro.broker.getvalue())"
   ]
  }
 ],
 "metadata": {
  "kernelspec": {
   "display_name": "Python 3",
   "language": "python",
   "name": "python3"
  },
  "language_info": {
   "codemirror_mode": {
    "name": "ipython",
    "version": 3
   },
   "file_extension": ".py",
   "mimetype": "text/x-python",
   "name": "python",
   "nbconvert_exporter": "python",
   "pygments_lexer": "ipython3",
   "version": "3.9.1"
  },
  "orig_nbformat": 4,
  "vscode": {
   "interpreter": {
    "hash": "3dc9f6b612ce1bd7e251dc8e464ec763c6eedce18e2ab29ad4d5814d5ff1b72c"
   }
  }
 },
 "nbformat": 4,
 "nbformat_minor": 2
}
