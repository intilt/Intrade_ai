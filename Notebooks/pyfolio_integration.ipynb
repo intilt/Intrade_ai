{
 "cells": [
  {
   "cell_type": "code",
   "execution_count": 4,
   "metadata": {},
   "outputs": [
    {
     "name": "stdout",
     "output_type": "stream",
     "text": [
      "Requirement already satisfied: pyfolio-reloaded in c:\\users\\amrit\\appdata\\local\\programs\\python\\python39\\lib\\site-packages (0.9.4)\n",
      "Requirement already satisfied: matplotlib>=1.4.0 in c:\\users\\amrit\\appdata\\local\\programs\\python\\python39\\lib\\site-packages (from pyfolio-reloaded) (3.2.2)\n",
      "Requirement already satisfied: seaborn>=0.7.1 in c:\\users\\amrit\\appdata\\local\\programs\\python\\python39\\lib\\site-packages (from pyfolio-reloaded) (0.12.1)\n",
      "Requirement already satisfied: pandas>=0.18.1 in c:\\users\\amrit\\appdata\\local\\programs\\python\\python39\\lib\\site-packages (from pyfolio-reloaded) (1.5.2)\n",
      "Requirement already satisfied: numpy>=1.11.1 in c:\\users\\amrit\\appdata\\local\\programs\\python\\python39\\lib\\site-packages (from pyfolio-reloaded) (1.20.3)\n",
      "Requirement already satisfied: ipython>=3.2.3 in c:\\users\\amrit\\appdata\\roaming\\python\\python39\\site-packages (from pyfolio-reloaded) (8.6.0)\n",
      "Requirement already satisfied: scikit-learn>=0.16.1 in c:\\users\\amrit\\appdata\\local\\programs\\python\\python39\\lib\\site-packages (from pyfolio-reloaded) (1.1.3)\n",
      "Requirement already satisfied: scipy>=0.14.0 in c:\\users\\amrit\\appdata\\local\\programs\\python\\python39\\lib\\site-packages (from pyfolio-reloaded) (1.7.3)\n",
      "Requirement already satisfied: empyrical-reloaded>=0.5.8 in c:\\users\\amrit\\appdata\\local\\programs\\python\\python39\\lib\\site-packages (from pyfolio-reloaded) (0.5.8)\n",
      "Requirement already satisfied: pytz>=2014.10 in c:\\users\\amrit\\appdata\\local\\programs\\python\\python39\\lib\\site-packages (from pyfolio-reloaded) (2022.6)\n",
      "Requirement already satisfied: yfinance>=0.1.55 in c:\\users\\amrit\\appdata\\local\\programs\\python\\python39\\lib\\site-packages (from empyrical-reloaded>=0.5.8->pyfolio-reloaded) (0.1.87)\n",
      "Requirement already satisfied: bottleneck>=1.3.0 in c:\\users\\amrit\\appdata\\local\\programs\\python\\python39\\lib\\site-packages (from empyrical-reloaded>=0.5.8->pyfolio-reloaded) (1.3.5)\n",
      "Requirement already satisfied: pandas-datareader>=0.4 in c:\\users\\amrit\\appdata\\local\\programs\\python\\python39\\lib\\site-packages (from empyrical-reloaded>=0.5.8->pyfolio-reloaded) (0.10.0)\n",
      "Requirement already satisfied: backcall in c:\\users\\amrit\\appdata\\roaming\\python\\python39\\site-packages (from ipython>=3.2.3->pyfolio-reloaded) (0.2.0)\n",
      "Requirement already satisfied: matplotlib-inline in c:\\users\\amrit\\appdata\\roaming\\python\\python39\\site-packages (from ipython>=3.2.3->pyfolio-reloaded) (0.1.6)\n",
      "Requirement already satisfied: pickleshare in c:\\users\\amrit\\appdata\\roaming\\python\\python39\\site-packages (from ipython>=3.2.3->pyfolio-reloaded) (0.7.5)\n",
      "Requirement already satisfied: prompt-toolkit<3.1.0,>3.0.1 in c:\\users\\amrit\\appdata\\roaming\\python\\python39\\site-packages (from ipython>=3.2.3->pyfolio-reloaded) (3.0.32)\n",
      "Requirement already satisfied: pygments>=2.4.0 in c:\\users\\amrit\\appdata\\roaming\\python\\python39\\site-packages (from ipython>=3.2.3->pyfolio-reloaded) (2.13.0)\n",
      "Requirement already satisfied: colorama in c:\\users\\amrit\\appdata\\roaming\\python\\python39\\site-packages (from ipython>=3.2.3->pyfolio-reloaded) (0.4.6)\n",
      "Requirement already satisfied: stack-data in c:\\users\\amrit\\appdata\\roaming\\python\\python39\\site-packages (from ipython>=3.2.3->pyfolio-reloaded) (0.6.1)\n",
      "Requirement already satisfied: jedi>=0.16 in c:\\users\\amrit\\appdata\\roaming\\python\\python39\\site-packages (from ipython>=3.2.3->pyfolio-reloaded) (0.18.1)\n",
      "Requirement already satisfied: traitlets>=5 in c:\\users\\amrit\\appdata\\roaming\\python\\python39\\site-packages (from ipython>=3.2.3->pyfolio-reloaded) (5.5.0)\n",
      "Requirement already satisfied: decorator in c:\\users\\amrit\\appdata\\roaming\\python\\python39\\site-packages (from ipython>=3.2.3->pyfolio-reloaded) (5.1.1)\n",
      "Requirement already satisfied: pyparsing!=2.0.4,!=2.1.2,!=2.1.6,>=2.0.1 in c:\\users\\amrit\\appdata\\roaming\\python\\python39\\site-packages (from matplotlib>=1.4.0->pyfolio-reloaded) (3.0.9)\n",
      "Requirement already satisfied: cycler>=0.10 in c:\\users\\amrit\\appdata\\local\\programs\\python\\python39\\lib\\site-packages (from matplotlib>=1.4.0->pyfolio-reloaded) (0.11.0)\n",
      "Requirement already satisfied: kiwisolver>=1.0.1 in c:\\users\\amrit\\appdata\\local\\programs\\python\\python39\\lib\\site-packages (from matplotlib>=1.4.0->pyfolio-reloaded) (1.4.4)\n",
      "Requirement already satisfied: python-dateutil>=2.1 in c:\\users\\amrit\\appdata\\roaming\\python\\python39\\site-packages (from matplotlib>=1.4.0->pyfolio-reloaded) (2.8.2)\n",
      "Requirement already satisfied: threadpoolctl>=2.0.0 in c:\\users\\amrit\\appdata\\local\\programs\\python\\python39\\lib\\site-packages (from scikit-learn>=0.16.1->pyfolio-reloaded) (3.1.0)\n",
      "Requirement already satisfied: joblib>=1.0.0 in c:\\users\\amrit\\appdata\\local\\programs\\python\\python39\\lib\\site-packages (from scikit-learn>=0.16.1->pyfolio-reloaded) (1.2.0)\n",
      "Requirement already satisfied: parso<0.9.0,>=0.8.0 in c:\\users\\amrit\\appdata\\roaming\\python\\python39\\site-packages (from jedi>=0.16->ipython>=3.2.3->pyfolio-reloaded) (0.8.3)\n",
      "Requirement already satisfied: lxml in c:\\users\\amrit\\appdata\\local\\programs\\python\\python39\\lib\\site-packages (from pandas-datareader>=0.4->empyrical-reloaded>=0.5.8->pyfolio-reloaded) (4.9.1)\n",
      "Requirement already satisfied: requests>=2.19.0 in c:\\users\\amrit\\appdata\\local\\programs\\python\\python39\\lib\\site-packages (from pandas-datareader>=0.4->empyrical-reloaded>=0.5.8->pyfolio-reloaded) (2.28.1)\n",
      "Requirement already satisfied: wcwidth in c:\\users\\amrit\\appdata\\roaming\\python\\python39\\site-packages (from prompt-toolkit<3.1.0,>3.0.1->ipython>=3.2.3->pyfolio-reloaded) (0.2.5)\n",
      "Requirement already satisfied: six>=1.5 in c:\\users\\amrit\\appdata\\roaming\\python\\python39\\site-packages (from python-dateutil>=2.1->matplotlib>=1.4.0->pyfolio-reloaded) (1.16.0)\n",
      "Requirement already satisfied: multitasking>=0.0.7 in c:\\users\\amrit\\appdata\\local\\programs\\python\\python39\\lib\\site-packages (from yfinance>=0.1.55->empyrical-reloaded>=0.5.8->pyfolio-reloaded) (0.0.11)\n",
      "Requirement already satisfied: appdirs>=1.4.4 in c:\\users\\amrit\\appdata\\local\\programs\\python\\python39\\lib\\site-packages (from yfinance>=0.1.55->empyrical-reloaded>=0.5.8->pyfolio-reloaded) (1.4.4)\n",
      "Requirement already satisfied: pure-eval in c:\\users\\amrit\\appdata\\roaming\\python\\python39\\site-packages (from stack-data->ipython>=3.2.3->pyfolio-reloaded) (0.2.2)\n",
      "Requirement already satisfied: executing>=1.2.0 in c:\\users\\amrit\\appdata\\roaming\\python\\python39\\site-packages (from stack-data->ipython>=3.2.3->pyfolio-reloaded) (1.2.0)\n",
      "Requirement already satisfied: asttokens>=2.1.0 in c:\\users\\amrit\\appdata\\roaming\\python\\python39\\site-packages (from stack-data->ipython>=3.2.3->pyfolio-reloaded) (2.1.0)\n",
      "Requirement already satisfied: certifi>=2017.4.17 in c:\\users\\amrit\\appdata\\local\\programs\\python\\python39\\lib\\site-packages (from requests>=2.19.0->pandas-datareader>=0.4->empyrical-reloaded>=0.5.8->pyfolio-reloaded) (2022.9.24)\n",
      "Requirement already satisfied: idna<4,>=2.5 in c:\\users\\amrit\\appdata\\local\\programs\\python\\python39\\lib\\site-packages (from requests>=2.19.0->pandas-datareader>=0.4->empyrical-reloaded>=0.5.8->pyfolio-reloaded) (3.4)\n",
      "Requirement already satisfied: charset-normalizer<3,>=2 in c:\\users\\amrit\\appdata\\local\\programs\\python\\python39\\lib\\site-packages (from requests>=2.19.0->pandas-datareader>=0.4->empyrical-reloaded>=0.5.8->pyfolio-reloaded) (2.1.1)\n",
      "Requirement already satisfied: urllib3<1.27,>=1.21.1 in c:\\users\\amrit\\appdata\\local\\programs\\python\\python39\\lib\\site-packages (from requests>=2.19.0->pandas-datareader>=0.4->empyrical-reloaded>=0.5.8->pyfolio-reloaded) (1.26.12)\n"
     ]
    }
   ],
   "source": [
    "!pip install pyfolio-reloaded"
   ]
  },
  {
   "cell_type": "code",
   "execution_count": 3,
   "metadata": {},
   "outputs": [
    {
     "name": "stdout",
     "output_type": "stream",
     "text": [
      "Requirement already satisfied: pyfolio in c:\\users\\amrit\\appdata\\local\\programs\\python\\python39\\lib\\site-packages (0.9.2)\n",
      "Requirement already satisfied: ipython>=3.2.3 in c:\\users\\amrit\\appdata\\roaming\\python\\python39\\site-packages (from pyfolio) (8.6.0)\n",
      "Requirement already satisfied: pandas>=0.18.1 in c:\\users\\amrit\\appdata\\local\\programs\\python\\python39\\lib\\site-packages (from pyfolio) (1.5.2)\n",
      "Requirement already satisfied: numpy>=1.11.1 in c:\\users\\amrit\\appdata\\local\\programs\\python\\python39\\lib\\site-packages (from pyfolio) (1.20.3)\n",
      "Requirement already satisfied: pytz>=2014.10 in c:\\users\\amrit\\appdata\\local\\programs\\python\\python39\\lib\\site-packages (from pyfolio) (2022.6)\n",
      "Requirement already satisfied: empyrical>=0.5.0 in c:\\users\\amrit\\appdata\\local\\programs\\python\\python39\\lib\\site-packages (from pyfolio) (0.5.5)\n",
      "Requirement already satisfied: seaborn>=0.7.1 in c:\\users\\amrit\\appdata\\local\\programs\\python\\python39\\lib\\site-packages (from pyfolio) (0.12.1)\n",
      "Requirement already satisfied: matplotlib>=1.4.0 in c:\\users\\amrit\\appdata\\local\\programs\\python\\python39\\lib\\site-packages (from pyfolio) (3.2.2)\n",
      "Requirement already satisfied: scipy>=0.14.0 in c:\\users\\amrit\\appdata\\local\\programs\\python\\python39\\lib\\site-packages (from pyfolio) (1.7.3)\n",
      "Requirement already satisfied: scikit-learn>=0.16.1 in c:\\users\\amrit\\appdata\\local\\programs\\python\\python39\\lib\\site-packages (from pyfolio) (1.1.3)\n",
      "Requirement already satisfied: pandas-datareader>=0.2 in c:\\users\\amrit\\appdata\\local\\programs\\python\\python39\\lib\\site-packages (from empyrical>=0.5.0->pyfolio) (0.10.0)\n",
      "Requirement already satisfied: stack-data in c:\\users\\amrit\\appdata\\roaming\\python\\python39\\site-packages (from ipython>=3.2.3->pyfolio) (0.6.1)\n",
      "Requirement already satisfied: traitlets>=5 in c:\\users\\amrit\\appdata\\roaming\\python\\python39\\site-packages (from ipython>=3.2.3->pyfolio) (5.5.0)\n",
      "Requirement already satisfied: prompt-toolkit<3.1.0,>3.0.1 in c:\\users\\amrit\\appdata\\roaming\\python\\python39\\site-packages (from ipython>=3.2.3->pyfolio) (3.0.32)\n",
      "Requirement already satisfied: colorama in c:\\users\\amrit\\appdata\\roaming\\python\\python39\\site-packages (from ipython>=3.2.3->pyfolio) (0.4.6)\n",
      "Requirement already satisfied: jedi>=0.16 in c:\\users\\amrit\\appdata\\roaming\\python\\python39\\site-packages (from ipython>=3.2.3->pyfolio) (0.18.1)\n",
      "Requirement already satisfied: pickleshare in c:\\users\\amrit\\appdata\\roaming\\python\\python39\\site-packages (from ipython>=3.2.3->pyfolio) (0.7.5)\n",
      "Requirement already satisfied: pygments>=2.4.0 in c:\\users\\amrit\\appdata\\roaming\\python\\python39\\site-packages (from ipython>=3.2.3->pyfolio) (2.13.0)\n",
      "Requirement already satisfied: backcall in c:\\users\\amrit\\appdata\\roaming\\python\\python39\\site-packages (from ipython>=3.2.3->pyfolio) (0.2.0)\n",
      "Requirement already satisfied: decorator in c:\\users\\amrit\\appdata\\roaming\\python\\python39\\site-packages (from ipython>=3.2.3->pyfolio) (5.1.1)\n",
      "Requirement already satisfied: matplotlib-inline in c:\\users\\amrit\\appdata\\roaming\\python\\python39\\site-packages (from ipython>=3.2.3->pyfolio) (0.1.6)\n",
      "Requirement already satisfied: kiwisolver>=1.0.1 in c:\\users\\amrit\\appdata\\local\\programs\\python\\python39\\lib\\site-packages (from matplotlib>=1.4.0->pyfolio) (1.4.4)\n",
      "Requirement already satisfied: cycler>=0.10 in c:\\users\\amrit\\appdata\\local\\programs\\python\\python39\\lib\\site-packages (from matplotlib>=1.4.0->pyfolio) (0.11.0)\n",
      "Requirement already satisfied: python-dateutil>=2.1 in c:\\users\\amrit\\appdata\\roaming\\python\\python39\\site-packages (from matplotlib>=1.4.0->pyfolio) (2.8.2)\n",
      "Requirement already satisfied: pyparsing!=2.0.4,!=2.1.2,!=2.1.6,>=2.0.1 in c:\\users\\amrit\\appdata\\roaming\\python\\python39\\site-packages (from matplotlib>=1.4.0->pyfolio) (3.0.9)\n",
      "Requirement already satisfied: joblib>=1.0.0 in c:\\users\\amrit\\appdata\\local\\programs\\python\\python39\\lib\\site-packages (from scikit-learn>=0.16.1->pyfolio) (1.2.0)\n",
      "Requirement already satisfied: threadpoolctl>=2.0.0 in c:\\users\\amrit\\appdata\\local\\programs\\python\\python39\\lib\\site-packages (from scikit-learn>=0.16.1->pyfolio) (3.1.0)\n",
      "Requirement already satisfied: parso<0.9.0,>=0.8.0 in c:\\users\\amrit\\appdata\\roaming\\python\\python39\\site-packages (from jedi>=0.16->ipython>=3.2.3->pyfolio) (0.8.3)\n",
      "Requirement already satisfied: requests>=2.19.0 in c:\\users\\amrit\\appdata\\local\\programs\\python\\python39\\lib\\site-packages (from pandas-datareader>=0.2->empyrical>=0.5.0->pyfolio) (2.28.1)\n",
      "Requirement already satisfied: lxml in c:\\users\\amrit\\appdata\\local\\programs\\python\\python39\\lib\\site-packages (from pandas-datareader>=0.2->empyrical>=0.5.0->pyfolio) (4.9.1)\n",
      "Requirement already satisfied: wcwidth in c:\\users\\amrit\\appdata\\roaming\\python\\python39\\site-packages (from prompt-toolkit<3.1.0,>3.0.1->ipython>=3.2.3->pyfolio) (0.2.5)\n",
      "Requirement already satisfied: six>=1.5 in c:\\users\\amrit\\appdata\\roaming\\python\\python39\\site-packages (from python-dateutil>=2.1->matplotlib>=1.4.0->pyfolio) (1.16.0)\n",
      "Requirement already satisfied: executing>=1.2.0 in c:\\users\\amrit\\appdata\\roaming\\python\\python39\\site-packages (from stack-data->ipython>=3.2.3->pyfolio) (1.2.0)\n",
      "Requirement already satisfied: pure-eval in c:\\users\\amrit\\appdata\\roaming\\python\\python39\\site-packages (from stack-data->ipython>=3.2.3->pyfolio) (0.2.2)\n",
      "Requirement already satisfied: asttokens>=2.1.0 in c:\\users\\amrit\\appdata\\roaming\\python\\python39\\site-packages (from stack-data->ipython>=3.2.3->pyfolio) (2.1.0)\n",
      "Requirement already satisfied: urllib3<1.27,>=1.21.1 in c:\\users\\amrit\\appdata\\local\\programs\\python\\python39\\lib\\site-packages (from requests>=2.19.0->pandas-datareader>=0.2->empyrical>=0.5.0->pyfolio) (1.26.12)\n",
      "Requirement already satisfied: idna<4,>=2.5 in c:\\users\\amrit\\appdata\\local\\programs\\python\\python39\\lib\\site-packages (from requests>=2.19.0->pandas-datareader>=0.2->empyrical>=0.5.0->pyfolio) (3.4)\n",
      "Requirement already satisfied: charset-normalizer<3,>=2 in c:\\users\\amrit\\appdata\\local\\programs\\python\\python39\\lib\\site-packages (from requests>=2.19.0->pandas-datareader>=0.2->empyrical>=0.5.0->pyfolio) (2.1.1)\n",
      "Requirement already satisfied: certifi>=2017.4.17 in c:\\users\\amrit\\appdata\\local\\programs\\python\\python39\\lib\\site-packages (from requests>=2.19.0->pandas-datareader>=0.2->empyrical>=0.5.0->pyfolio) (2022.9.24)\n"
     ]
    }
   ],
   "source": [
    "! pip install pyfolio"
   ]
  },
  {
   "cell_type": "code",
   "execution_count": 2,
   "metadata": {},
   "outputs": [
    {
     "name": "stdout",
     "output_type": "stream",
     "text": [
      "Requirement already satisfied: pandas-datareader in c:\\users\\amrit\\appdata\\local\\programs\\python\\python39\\lib\\site-packages (0.10.0)\n",
      "Requirement already satisfied: requests>=2.19.0 in c:\\users\\amrit\\appdata\\local\\programs\\python\\python39\\lib\\site-packages (from pandas-datareader) (2.28.1)\n",
      "Requirement already satisfied: lxml in c:\\users\\amrit\\appdata\\local\\programs\\python\\python39\\lib\\site-packages (from pandas-datareader) (4.9.1)\n",
      "Requirement already satisfied: pandas>=0.23 in c:\\users\\amrit\\appdata\\local\\programs\\python\\python39\\lib\\site-packages (from pandas-datareader) (1.5.2)\n",
      "Requirement already satisfied: pytz>=2020.1 in c:\\users\\amrit\\appdata\\local\\programs\\python\\python39\\lib\\site-packages (from pandas>=0.23->pandas-datareader) (2022.6)\n",
      "Requirement already satisfied: numpy>=1.20.3 in c:\\users\\amrit\\appdata\\local\\programs\\python\\python39\\lib\\site-packages (from pandas>=0.23->pandas-datareader) (1.20.3)\n",
      "Requirement already satisfied: python-dateutil>=2.8.1 in c:\\users\\amrit\\appdata\\roaming\\python\\python39\\site-packages (from pandas>=0.23->pandas-datareader) (2.8.2)\n",
      "Requirement already satisfied: idna<4,>=2.5 in c:\\users\\amrit\\appdata\\local\\programs\\python\\python39\\lib\\site-packages (from requests>=2.19.0->pandas-datareader) (3.4)\n",
      "Requirement already satisfied: certifi>=2017.4.17 in c:\\users\\amrit\\appdata\\local\\programs\\python\\python39\\lib\\site-packages (from requests>=2.19.0->pandas-datareader) (2022.9.24)\n",
      "Requirement already satisfied: charset-normalizer<3,>=2 in c:\\users\\amrit\\appdata\\local\\programs\\python\\python39\\lib\\site-packages (from requests>=2.19.0->pandas-datareader) (2.1.1)\n",
      "Requirement already satisfied: urllib3<1.27,>=1.21.1 in c:\\users\\amrit\\appdata\\local\\programs\\python\\python39\\lib\\site-packages (from requests>=2.19.0->pandas-datareader) (1.26.12)\n",
      "Requirement already satisfied: six>=1.5 in c:\\users\\amrit\\appdata\\roaming\\python\\python39\\site-packages (from python-dateutil>=2.8.1->pandas>=0.23->pandas-datareader) (1.16.0)\n"
     ]
    }
   ],
   "source": [
    "!pip install pandas-datareader"
   ]
  },
  {
   "cell_type": "code",
   "execution_count": 2,
   "metadata": {},
   "outputs": [
    {
     "name": "stdout",
     "output_type": "stream",
     "text": [
      "Collecting numpy==1.21.6\n",
      "  Using cached numpy-1.21.6-cp39-cp39-win_amd64.whl (14.0 MB)\n",
      "Installing collected packages: numpy\n",
      "  Attempting uninstall: numpy\n",
      "    Found existing installation: numpy 1.20.3\n",
      "    Uninstalling numpy-1.20.3:\n",
      "      Successfully uninstalled numpy-1.20.3\n",
      "Successfully installed numpy-1.21.6\n"
     ]
    }
   ],
   "source": [
    "!pip install numpy==1.21.6"
   ]
  },
  {
   "cell_type": "code",
   "execution_count": 7,
   "metadata": {},
   "outputs": [
    {
     "name": "stdout",
     "output_type": "stream",
     "text": [
      "Requirement already satisfied: pandas in c:\\users\\amrit\\appdata\\local\\programs\\python\\python39\\lib\\site-packages (1.5.1)\n",
      "Collecting pandas\n",
      "  Downloading pandas-1.5.2-cp39-cp39-win_amd64.whl (10.9 MB)\n",
      "     --------------------------------------- 10.9/10.9 MB 10.9 MB/s eta 0:00:00\n",
      "Requirement already satisfied: python-dateutil>=2.8.1 in c:\\users\\amrit\\appdata\\roaming\\python\\python39\\site-packages (from pandas) (2.8.2)\n",
      "Requirement already satisfied: numpy>=1.20.3 in c:\\users\\amrit\\appdata\\local\\programs\\python\\python39\\lib\\site-packages (from pandas) (1.23.5)\n",
      "Requirement already satisfied: pytz>=2020.1 in c:\\users\\amrit\\appdata\\local\\programs\\python\\python39\\lib\\site-packages (from pandas) (2022.6)\n",
      "Requirement already satisfied: six>=1.5 in c:\\users\\amrit\\appdata\\roaming\\python\\python39\\site-packages (from python-dateutil>=2.8.1->pandas) (1.16.0)\n",
      "Installing collected packages: pandas\n",
      "  Attempting uninstall: pandas\n",
      "    Found existing installation: pandas 1.5.1\n",
      "    Uninstalling pandas-1.5.1:\n",
      "      Successfully uninstalled pandas-1.5.1\n",
      "Successfully installed pandas-1.5.2\n"
     ]
    }
   ],
   "source": [
    "!pip install --upgrade pandas"
   ]
  },
  {
   "cell_type": "code",
   "execution_count": 8,
   "metadata": {},
   "outputs": [
    {
     "name": "stdout",
     "output_type": "stream",
     "text": [
      "Requirement already satisfied: seaborn in c:\\users\\amrit\\appdata\\local\\programs\\python\\python39\\lib\\site-packages (0.12.1)\n",
      "Requirement already satisfied: numpy>=1.17 in c:\\users\\amrit\\appdata\\local\\programs\\python\\python39\\lib\\site-packages (from seaborn) (1.23.5)\n",
      "Requirement already satisfied: pandas>=0.25 in c:\\users\\amrit\\appdata\\local\\programs\\python\\python39\\lib\\site-packages (from seaborn) (1.5.2)\n",
      "Requirement already satisfied: matplotlib!=3.6.1,>=3.1 in c:\\users\\amrit\\appdata\\local\\programs\\python\\python39\\lib\\site-packages (from seaborn) (3.2.2)\n",
      "Requirement already satisfied: cycler>=0.10 in c:\\users\\amrit\\appdata\\local\\programs\\python\\python39\\lib\\site-packages (from matplotlib!=3.6.1,>=3.1->seaborn) (0.11.0)\n",
      "Requirement already satisfied: pyparsing!=2.0.4,!=2.1.2,!=2.1.6,>=2.0.1 in c:\\users\\amrit\\appdata\\roaming\\python\\python39\\site-packages (from matplotlib!=3.6.1,>=3.1->seaborn) (3.0.9)\n",
      "Requirement already satisfied: python-dateutil>=2.1 in c:\\users\\amrit\\appdata\\roaming\\python\\python39\\site-packages (from matplotlib!=3.6.1,>=3.1->seaborn) (2.8.2)\n",
      "Requirement already satisfied: kiwisolver>=1.0.1 in c:\\users\\amrit\\appdata\\local\\programs\\python\\python39\\lib\\site-packages (from matplotlib!=3.6.1,>=3.1->seaborn) (1.4.4)\n",
      "Requirement already satisfied: pytz>=2020.1 in c:\\users\\amrit\\appdata\\local\\programs\\python\\python39\\lib\\site-packages (from pandas>=0.25->seaborn) (2022.6)\n",
      "Requirement already satisfied: six>=1.5 in c:\\users\\amrit\\appdata\\roaming\\python\\python39\\site-packages (from python-dateutil>=2.1->matplotlib!=3.6.1,>=3.1->seaborn) (1.16.0)\n"
     ]
    }
   ],
   "source": [
    "!pip install --upgrade seaborn"
   ]
  },
  {
   "cell_type": "code",
   "execution_count": 5,
   "metadata": {},
   "outputs": [
    {
     "name": "stdout",
     "output_type": "stream",
     "text": [
      "Requirement already satisfied: scikit-learn in c:\\users\\amrit\\appdata\\local\\programs\\python\\python39\\lib\\site-packages (1.1.3)\n",
      "Requirement already satisfied: joblib>=1.0.0 in c:\\users\\amrit\\appdata\\local\\programs\\python\\python39\\lib\\site-packages (from scikit-learn) (1.2.0)\n",
      "Requirement already satisfied: threadpoolctl>=2.0.0 in c:\\users\\amrit\\appdata\\local\\programs\\python\\python39\\lib\\site-packages (from scikit-learn) (3.1.0)\n",
      "Requirement already satisfied: scipy>=1.3.2 in c:\\users\\amrit\\appdata\\local\\programs\\python\\python39\\lib\\site-packages (from scikit-learn) (1.7.3)\n",
      "Requirement already satisfied: numpy>=1.17.3 in c:\\users\\amrit\\appdata\\local\\programs\\python\\python39\\lib\\site-packages (from scikit-learn) (1.21.6)\n"
     ]
    }
   ],
   "source": [
    "!pip install --upgrade scikit-learn"
   ]
  },
  {
   "cell_type": "code",
   "execution_count": 2,
   "metadata": {},
   "outputs": [],
   "source": [
    "import warnings\n",
    "warnings.filterwarnings('ignore')"
   ]
  },
  {
   "cell_type": "code",
   "execution_count": 1,
   "metadata": {},
   "outputs": [
    {
     "name": "stderr",
     "output_type": "stream",
     "text": [
      "c:\\Users\\Amrit\\AppData\\Local\\Programs\\Python\\Python310\\lib\\site-packages\\pyfolio\\pos.py:26: UserWarning: Module \"zipline.assets\" not found; mutltipliers will not be applied to position notionals.\n",
      "  warnings.warn(\n"
     ]
    },
    {
     "ename": "ValueError",
     "evalue": "numpy.ndarray size changed, may indicate binary incompatibility. Expected 96 from C header, got 88 from PyObject",
     "output_type": "error",
     "traceback": [
      "\u001b[1;31m---------------------------------------------------------------------------\u001b[0m",
      "\u001b[1;31mValueError\u001b[0m                                Traceback (most recent call last)",
      "Cell \u001b[1;32mIn [1], line 1\u001b[0m\n\u001b[1;32m----> 1\u001b[0m \u001b[39mimport\u001b[39;00m \u001b[39mpyfolio\u001b[39;00m \u001b[39mas\u001b[39;00m \u001b[39mpf\u001b[39;00m\n",
      "File \u001b[1;32mc:\\Users\\Amrit\\AppData\\Local\\Programs\\Python\\Python310\\lib\\site-packages\\pyfolio\\__init__.py:4\u001b[0m\n\u001b[0;32m      1\u001b[0m \u001b[39mimport\u001b[39;00m \u001b[39mwarnings\u001b[39;00m\n\u001b[0;32m      3\u001b[0m \u001b[39mfrom\u001b[39;00m \u001b[39m.\u001b[39;00m \u001b[39mimport\u001b[39;00m utils\n\u001b[1;32m----> 4\u001b[0m \u001b[39mfrom\u001b[39;00m \u001b[39m.\u001b[39;00m \u001b[39mimport\u001b[39;00m timeseries\n\u001b[0;32m      5\u001b[0m \u001b[39mfrom\u001b[39;00m \u001b[39m.\u001b[39;00m \u001b[39mimport\u001b[39;00m pos\n\u001b[0;32m      6\u001b[0m \u001b[39mfrom\u001b[39;00m \u001b[39m.\u001b[39;00m \u001b[39mimport\u001b[39;00m txn\n",
      "File \u001b[1;32mc:\\Users\\Amrit\\AppData\\Local\\Programs\\Python\\Python310\\lib\\site-packages\\pyfolio\\timeseries.py:25\u001b[0m\n\u001b[0;32m     23\u001b[0m \u001b[39mimport\u001b[39;00m \u001b[39mscipy\u001b[39;00m \u001b[39mas\u001b[39;00m \u001b[39msp\u001b[39;00m\n\u001b[0;32m     24\u001b[0m \u001b[39mimport\u001b[39;00m \u001b[39mscipy\u001b[39;00m\u001b[39m.\u001b[39;00m\u001b[39mstats\u001b[39;00m \u001b[39mas\u001b[39;00m \u001b[39mstats\u001b[39;00m\n\u001b[1;32m---> 25\u001b[0m \u001b[39mfrom\u001b[39;00m \u001b[39msklearn\u001b[39;00m \u001b[39mimport\u001b[39;00m linear_model\n\u001b[0;32m     27\u001b[0m \u001b[39mfrom\u001b[39;00m \u001b[39m.\u001b[39;00m\u001b[39mdeprecate\u001b[39;00m \u001b[39mimport\u001b[39;00m deprecated\n\u001b[0;32m     28\u001b[0m \u001b[39mfrom\u001b[39;00m \u001b[39m.\u001b[39;00m\u001b[39minteresting_periods\u001b[39;00m \u001b[39mimport\u001b[39;00m PERIODS\n",
      "File \u001b[1;32mc:\\Users\\Amrit\\AppData\\Local\\Programs\\Python\\Python310\\lib\\site-packages\\sklearn\\__init__.py:82\u001b[0m\n\u001b[0;32m     80\u001b[0m \u001b[39mfrom\u001b[39;00m \u001b[39m.\u001b[39;00m \u001b[39mimport\u001b[39;00m _distributor_init  \u001b[39m# noqa: F401\u001b[39;00m\n\u001b[0;32m     81\u001b[0m \u001b[39mfrom\u001b[39;00m \u001b[39m.\u001b[39;00m \u001b[39mimport\u001b[39;00m __check_build  \u001b[39m# noqa: F401\u001b[39;00m\n\u001b[1;32m---> 82\u001b[0m \u001b[39mfrom\u001b[39;00m \u001b[39m.\u001b[39;00m\u001b[39mbase\u001b[39;00m \u001b[39mimport\u001b[39;00m clone\n\u001b[0;32m     83\u001b[0m \u001b[39mfrom\u001b[39;00m \u001b[39m.\u001b[39;00m\u001b[39mutils\u001b[39;00m\u001b[39m.\u001b[39;00m\u001b[39m_show_versions\u001b[39;00m \u001b[39mimport\u001b[39;00m show_versions\n\u001b[0;32m     85\u001b[0m __all__ \u001b[39m=\u001b[39m [\n\u001b[0;32m     86\u001b[0m     \u001b[39m\"\u001b[39m\u001b[39mcalibration\u001b[39m\u001b[39m\"\u001b[39m,\n\u001b[0;32m     87\u001b[0m     \u001b[39m\"\u001b[39m\u001b[39mcluster\u001b[39m\u001b[39m\"\u001b[39m,\n\u001b[1;32m   (...)\u001b[0m\n\u001b[0;32m    128\u001b[0m     \u001b[39m\"\u001b[39m\u001b[39mshow_versions\u001b[39m\u001b[39m\"\u001b[39m,\n\u001b[0;32m    129\u001b[0m ]\n",
      "File \u001b[1;32mc:\\Users\\Amrit\\AppData\\Local\\Programs\\Python\\Python310\\lib\\site-packages\\sklearn\\base.py:17\u001b[0m\n\u001b[0;32m     15\u001b[0m \u001b[39mfrom\u001b[39;00m \u001b[39m.\u001b[39;00m \u001b[39mimport\u001b[39;00m __version__\n\u001b[0;32m     16\u001b[0m \u001b[39mfrom\u001b[39;00m \u001b[39m.\u001b[39;00m\u001b[39m_config\u001b[39;00m \u001b[39mimport\u001b[39;00m get_config\n\u001b[1;32m---> 17\u001b[0m \u001b[39mfrom\u001b[39;00m \u001b[39m.\u001b[39;00m\u001b[39mutils\u001b[39;00m \u001b[39mimport\u001b[39;00m _IS_32BIT\n\u001b[0;32m     18\u001b[0m \u001b[39mfrom\u001b[39;00m \u001b[39m.\u001b[39;00m\u001b[39mutils\u001b[39;00m\u001b[39m.\u001b[39;00m\u001b[39m_tags\u001b[39;00m \u001b[39mimport\u001b[39;00m (\n\u001b[0;32m     19\u001b[0m     _DEFAULT_TAGS,\n\u001b[0;32m     20\u001b[0m )\n\u001b[0;32m     21\u001b[0m \u001b[39mfrom\u001b[39;00m \u001b[39m.\u001b[39;00m\u001b[39mutils\u001b[39;00m\u001b[39m.\u001b[39;00m\u001b[39mvalidation\u001b[39;00m \u001b[39mimport\u001b[39;00m check_X_y\n",
      "File \u001b[1;32mc:\\Users\\Amrit\\AppData\\Local\\Programs\\Python\\Python310\\lib\\site-packages\\sklearn\\utils\\__init__.py:24\u001b[0m\n\u001b[0;32m     21\u001b[0m \u001b[39mimport\u001b[39;00m \u001b[39mnumpy\u001b[39;00m \u001b[39mas\u001b[39;00m \u001b[39mnp\u001b[39;00m\n\u001b[0;32m     22\u001b[0m \u001b[39mfrom\u001b[39;00m \u001b[39mscipy\u001b[39;00m\u001b[39m.\u001b[39;00m\u001b[39msparse\u001b[39;00m \u001b[39mimport\u001b[39;00m issparse\n\u001b[1;32m---> 24\u001b[0m \u001b[39mfrom\u001b[39;00m \u001b[39m.\u001b[39;00m\u001b[39mmurmurhash\u001b[39;00m \u001b[39mimport\u001b[39;00m murmurhash3_32\n\u001b[0;32m     25\u001b[0m \u001b[39mfrom\u001b[39;00m \u001b[39m.\u001b[39;00m\u001b[39mclass_weight\u001b[39;00m \u001b[39mimport\u001b[39;00m compute_class_weight, compute_sample_weight\n\u001b[0;32m     26\u001b[0m \u001b[39mfrom\u001b[39;00m \u001b[39m.\u001b[39;00m \u001b[39mimport\u001b[39;00m _joblib\n",
      "File \u001b[1;32msklearn\\utils\\murmurhash.pyx:1\u001b[0m, in \u001b[0;36minit sklearn.utils.murmurhash\u001b[1;34m()\u001b[0m\n",
      "\u001b[1;31mValueError\u001b[0m: numpy.ndarray size changed, may indicate binary incompatibility. Expected 96 from C header, got 88 from PyObject"
     ]
    }
   ],
   "source": [
    "import pyfolio as pf"
   ]
  },
  {
   "cell_type": "code",
   "execution_count": null,
   "metadata": {},
   "outputs": [],
   "source": []
  }
 ],
 "metadata": {
  "kernelspec": {
   "display_name": "Python 3.10.0 64-bit",
   "language": "python",
   "name": "python3"
  },
  "language_info": {
   "codemirror_mode": {
    "name": "ipython",
    "version": 3
   },
   "file_extension": ".py",
   "mimetype": "text/x-python",
   "name": "python",
   "nbconvert_exporter": "python",
   "pygments_lexer": "ipython3",
   "version": "3.10.0"
  },
  "orig_nbformat": 4,
  "vscode": {
   "interpreter": {
    "hash": "a4eb17cfc315e1086e64ababfe7809be8f1c25c6da3a4a8e75049620772378dd"
   }
  }
 },
 "nbformat": 4,
 "nbformat_minor": 2
}
