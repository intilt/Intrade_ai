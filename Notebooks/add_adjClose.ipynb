{
 "cells": [
  {
   "cell_type": "code",
   "execution_count": 1,
   "metadata": {},
   "outputs": [
    {
     "name": "stdout",
     "output_type": "stream",
     "text": [
      "c:\\Users\\Amrit\\Intilt\\Intrade_ai\n"
     ]
    }
   ],
   "source": [
    "import os\n",
    "os.chdir(\"../\")\n",
    "print(os.getcwd())"
   ]
  },
  {
   "cell_type": "code",
   "execution_count": 2,
   "metadata": {},
   "outputs": [],
   "source": [
    "import pandas as pd\n",
    "import numpy as np\n",
    "import datetime\n",
    "from utils.data_cleaning import get_missing_data_dates, get_continuous_1min_data"
   ]
  },
  {
   "cell_type": "code",
   "execution_count": 3,
   "metadata": {},
   "outputs": [],
   "source": [
    "min_data = pd.read_csv('Data/Nifty/nifty_1min.csv')\n",
    "daily_data = pd.read_csv('Data/Nifty/nifty_1day_continous.csv')"
   ]
  },
  {
   "cell_type": "code",
   "execution_count": 4,
   "metadata": {},
   "outputs": [],
   "source": [
    "min_data = get_continuous_1min_data('Nifty', min_data)"
   ]
  },
  {
   "cell_type": "code",
   "execution_count": 51,
   "metadata": {},
   "outputs": [],
   "source": [
    "df = min_data.copy()\n",
    "df.interpolate(method='polynomial', order=2, inplace=True)\n",
    "\n",
    "# Add noise to the imputed values\n",
    "noise = np.random.normal(0, 0.02, df.shape)\n",
    "df += noise"
   ]
  },
  {
   "cell_type": "code",
   "execution_count": 52,
   "metadata": {},
   "outputs": [],
   "source": [
    "df1 = daily_data.copy()\n",
    "df1 = df1.set_index('datetime')\n",
    "df1 = df1[df1.index >= '2011-01-03']"
   ]
  },
  {
   "cell_type": "code",
   "execution_count": 56,
   "metadata": {},
   "outputs": [],
   "source": [
    "def add_adj_close(min_data, daily_data):\n",
    "    min_data.index = pd.to_datetime(min_data.index)\n",
    "    daily_data.index = pd.to_datetime(daily_data.index)\n",
    "    min_data['day'] = min_data.index.normalize()\n",
    "    gp = min_data.groupby('day')\n",
    "    dfList = []\n",
    "    for k, res in gp:\n",
    "        # Check if date is present in the daily data\n",
    "        if k in daily_data.index:\n",
    "            # Get the close value of the same date from daily data\n",
    "            close_value = daily_data.at[k, 'close']\n",
    "            # get the last row of the group\n",
    "            last_row = res.iloc[-1]\n",
    "            # Update the adj close value of the last time of same date with close value from daily data\n",
    "            res.at[last_row.name, 'adj close'] = close_value\n",
    "        dfList.append(res)\n",
    "    min_data = pd.concat(dfList)\n",
    "    min_data['adj close'].fillna(min_data['close'], inplace=True)\n",
    "    min_data = min_data.drop(columns=['day'])\n",
    "    return min_data"
   ]
  },
  {
   "cell_type": "code",
   "execution_count": 58,
   "metadata": {},
   "outputs": [],
   "source": [
    "temp = add_adj_close(df, df1)"
   ]
  },
  {
   "cell_type": "code",
   "execution_count": 60,
   "metadata": {},
   "outputs": [
    {
     "data": {
      "text/html": [
       "<div>\n",
       "<style scoped>\n",
       "    .dataframe tbody tr th:only-of-type {\n",
       "        vertical-align: middle;\n",
       "    }\n",
       "\n",
       "    .dataframe tbody tr th {\n",
       "        vertical-align: top;\n",
       "    }\n",
       "\n",
       "    .dataframe thead th {\n",
       "        text-align: right;\n",
       "    }\n",
       "</style>\n",
       "<table border=\"1\" class=\"dataframe\">\n",
       "  <thead>\n",
       "    <tr style=\"text-align: right;\">\n",
       "      <th></th>\n",
       "      <th>open</th>\n",
       "      <th>high</th>\n",
       "      <th>low</th>\n",
       "      <th>close</th>\n",
       "      <th>adj close</th>\n",
       "    </tr>\n",
       "    <tr>\n",
       "      <th>datetime</th>\n",
       "      <th></th>\n",
       "      <th></th>\n",
       "      <th></th>\n",
       "      <th></th>\n",
       "      <th></th>\n",
       "    </tr>\n",
       "  </thead>\n",
       "  <tbody>\n",
       "    <tr>\n",
       "      <th>2011-01-03 09:15:00</th>\n",
       "      <td>6178.238576</td>\n",
       "      <td>6178.522562</td>\n",
       "      <td>6171.724723</td>\n",
       "      <td>6172.068388</td>\n",
       "      <td>6172.068388</td>\n",
       "    </tr>\n",
       "    <tr>\n",
       "      <th>2011-01-03 09:16:00</th>\n",
       "      <td>6173.784804</td>\n",
       "      <td>6173.821487</td>\n",
       "      <td>6168.973980</td>\n",
       "      <td>6170.842889</td>\n",
       "      <td>6170.842889</td>\n",
       "    </tr>\n",
       "    <tr>\n",
       "      <th>2011-01-03 09:17:00</th>\n",
       "      <td>6171.513909</td>\n",
       "      <td>6174.620438</td>\n",
       "      <td>6170.989161</td>\n",
       "      <td>6174.669041</td>\n",
       "      <td>6174.669041</td>\n",
       "    </tr>\n",
       "    <tr>\n",
       "      <th>2011-01-03 09:18:00</th>\n",
       "      <td>6174.008973</td>\n",
       "      <td>6178.193365</td>\n",
       "      <td>6174.028453</td>\n",
       "      <td>6177.705282</td>\n",
       "      <td>6177.705282</td>\n",
       "    </tr>\n",
       "    <tr>\n",
       "      <th>2011-01-03 09:19:00</th>\n",
       "      <td>6177.822029</td>\n",
       "      <td>6178.243138</td>\n",
       "      <td>6176.748200</td>\n",
       "      <td>6177.048580</td>\n",
       "      <td>6177.048580</td>\n",
       "    </tr>\n",
       "    <tr>\n",
       "      <th>...</th>\n",
       "      <td>...</td>\n",
       "      <td>...</td>\n",
       "      <td>...</td>\n",
       "      <td>...</td>\n",
       "      <td>...</td>\n",
       "    </tr>\n",
       "    <tr>\n",
       "      <th>2021-12-31 15:25:00</th>\n",
       "      <td>17357.918089</td>\n",
       "      <td>17358.466220</td>\n",
       "      <td>17353.783842</td>\n",
       "      <td>17356.302035</td>\n",
       "      <td>17356.302035</td>\n",
       "    </tr>\n",
       "    <tr>\n",
       "      <th>2021-12-31 15:26:00</th>\n",
       "      <td>17356.121732</td>\n",
       "      <td>17359.696404</td>\n",
       "      <td>17355.614759</td>\n",
       "      <td>17359.321014</td>\n",
       "      <td>17359.321014</td>\n",
       "    </tr>\n",
       "    <tr>\n",
       "      <th>2021-12-31 15:27:00</th>\n",
       "      <td>17358.791325</td>\n",
       "      <td>17360.501200</td>\n",
       "      <td>17356.230626</td>\n",
       "      <td>17359.803388</td>\n",
       "      <td>17359.803388</td>\n",
       "    </tr>\n",
       "    <tr>\n",
       "      <th>2021-12-31 15:28:00</th>\n",
       "      <td>17359.769238</td>\n",
       "      <td>17360.922916</td>\n",
       "      <td>17351.104252</td>\n",
       "      <td>17353.637348</td>\n",
       "      <td>17353.637348</td>\n",
       "    </tr>\n",
       "    <tr>\n",
       "      <th>2021-12-31 15:29:00</th>\n",
       "      <td>17353.388539</td>\n",
       "      <td>17365.422685</td>\n",
       "      <td>17353.084919</td>\n",
       "      <td>17364.296747</td>\n",
       "      <td>17354.050000</td>\n",
       "    </tr>\n",
       "  </tbody>\n",
       "</table>\n",
       "<p>1016349 rows × 5 columns</p>\n",
       "</div>"
      ],
      "text/plain": [
       "                             open          high           low         close  \\\n",
       "datetime                                                                      \n",
       "2011-01-03 09:15:00   6178.238576   6178.522562   6171.724723   6172.068388   \n",
       "2011-01-03 09:16:00   6173.784804   6173.821487   6168.973980   6170.842889   \n",
       "2011-01-03 09:17:00   6171.513909   6174.620438   6170.989161   6174.669041   \n",
       "2011-01-03 09:18:00   6174.008973   6178.193365   6174.028453   6177.705282   \n",
       "2011-01-03 09:19:00   6177.822029   6178.243138   6176.748200   6177.048580   \n",
       "...                           ...           ...           ...           ...   \n",
       "2021-12-31 15:25:00  17357.918089  17358.466220  17353.783842  17356.302035   \n",
       "2021-12-31 15:26:00  17356.121732  17359.696404  17355.614759  17359.321014   \n",
       "2021-12-31 15:27:00  17358.791325  17360.501200  17356.230626  17359.803388   \n",
       "2021-12-31 15:28:00  17359.769238  17360.922916  17351.104252  17353.637348   \n",
       "2021-12-31 15:29:00  17353.388539  17365.422685  17353.084919  17364.296747   \n",
       "\n",
       "                        adj close  \n",
       "datetime                           \n",
       "2011-01-03 09:15:00   6172.068388  \n",
       "2011-01-03 09:16:00   6170.842889  \n",
       "2011-01-03 09:17:00   6174.669041  \n",
       "2011-01-03 09:18:00   6177.705282  \n",
       "2011-01-03 09:19:00   6177.048580  \n",
       "...                           ...  \n",
       "2021-12-31 15:25:00  17356.302035  \n",
       "2021-12-31 15:26:00  17359.321014  \n",
       "2021-12-31 15:27:00  17359.803388  \n",
       "2021-12-31 15:28:00  17353.637348  \n",
       "2021-12-31 15:29:00  17354.050000  \n",
       "\n",
       "[1016349 rows x 5 columns]"
      ]
     },
     "execution_count": 60,
     "metadata": {},
     "output_type": "execute_result"
    }
   ],
   "source": [
    "temp"
   ]
  }
 ],
 "metadata": {
  "kernelspec": {
   "display_name": "Python 3",
   "language": "python",
   "name": "python3"
  },
  "language_info": {
   "codemirror_mode": {
    "name": "ipython",
    "version": 3
   },
   "file_extension": ".py",
   "mimetype": "text/x-python",
   "name": "python",
   "nbconvert_exporter": "python",
   "pygments_lexer": "ipython3",
   "version": "3.9.1"
  },
  "orig_nbformat": 4,
  "vscode": {
   "interpreter": {
    "hash": "3dc9f6b612ce1bd7e251dc8e464ec763c6eedce18e2ab29ad4d5814d5ff1b72c"
   }
  }
 },
 "nbformat": 4,
 "nbformat_minor": 2
}
