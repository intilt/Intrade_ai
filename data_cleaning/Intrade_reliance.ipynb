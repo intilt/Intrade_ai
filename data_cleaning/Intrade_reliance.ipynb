{
  "nbformat": 4,
  "nbformat_minor": 0,
  "metadata": {
    "colab": {
      "provenance": []
    },
    "kernelspec": {
      "name": "python3",
      "display_name": "Python 3"
    },
    "language_info": {
      "name": "python"
    }
  },
  "cells": [
    {
      "cell_type": "code",
      "source": [
        "from google.colab import drive\n",
        "drive.mount('/content/drive')"
      ],
      "metadata": {
        "colab": {
          "base_uri": "https://localhost:8080/"
        },
        "id": "k6xIymAMTVIg",
        "outputId": "509756fd-a7cb-4058-c17a-38dcd2fcacbb"
      },
      "execution_count": 46,
      "outputs": [
        {
          "output_type": "stream",
          "name": "stdout",
          "text": [
            "Drive already mounted at /content/drive; to attempt to forcibly remount, call drive.mount(\"/content/drive\", force_remount=True).\n"
          ]
        }
      ]
    },
    {
      "cell_type": "code",
      "execution_count": 47,
      "metadata": {
        "id": "xYbWDonOnZcF"
      },
      "outputs": [],
      "source": [
        "import pandas as pd\n",
        "import numpy as np\n",
        "import matplotlib.pyplot as plt\n",
        "import datetime"
      ]
    },
    {
      "cell_type": "code",
      "source": [
        "data = pd.read_csv(\"/content/drive/MyDrive/Intrade/Reliance/reliance_1day.csv\")\n",
        "holidays = pd.read_csv(\"/content/drive/MyDrive/Intrade/Off_days/holidays.csv\")\n",
        "trade_on_holiday = pd.read_csv(\"/content/drive/MyDrive/Intrade/Off_days/trade_on_holidays.csv\")\n",
        "trade_on_weekend = pd.read_csv(\"/content/drive/MyDrive/Intrade/Off_days/trade_on_weekends.csv\")\n",
        "missing_dates = pd.read_csv(\"/content/drive/MyDrive/Intrade/Off_days/missing_dates.csv\")"
      ],
      "metadata": {
        "id": "jnEUhZRnpc8h"
      },
      "execution_count": 92,
      "outputs": []
    },
    {
      "cell_type": "code",
      "source": [
        "data"
      ],
      "metadata": {
        "colab": {
          "base_uri": "https://localhost:8080/",
          "height": 424
        },
        "id": "MOykZBCKry7d",
        "outputId": "4c2dda85-dcff-4276-e9b2-de3c863a3085"
      },
      "execution_count": 93,
      "outputs": [
        {
          "output_type": "execute_result",
          "data": {
            "text/plain": [
              "                 datetime stock_code     open     high      low    close  \\\n",
              "0     2007-01-02 12:01:00     RELIND   318.47   321.00   317.37   319.85   \n",
              "1     2007-01-03 12:01:00     RELIND   320.81   322.20   318.55   320.71   \n",
              "2     2007-01-04 12:01:00     RELIND   321.98   324.33   318.94   319.76   \n",
              "3     2007-01-05 12:01:00     RELIND   318.47   327.14   318.47   321.55   \n",
              "4     2007-01-08 12:01:00     RELIND   322.92   322.92   316.50   318.90   \n",
              "...                   ...        ...      ...      ...      ...      ...   \n",
              "3851  2022-11-01 12:11:00     RELIND  2600.00  2600.00  2508.00  2529.85   \n",
              "3852  2022-11-02 12:11:00     RELIND  2532.30  2550.20  2515.00  2545.65   \n",
              "3853  2022-11-03 12:11:00     RELIND  2529.85  2559.55  2525.05  2555.15   \n",
              "3854  2022-11-04 12:11:00     RELIND  2553.90  2600.00  2551.10  2592.75   \n",
              "3855  2022-11-07 12:11:00     RELIND  2591.00  2610.30  2574.00  2606.60   \n",
              "\n",
              "       volume  \n",
              "0     1149902  \n",
              "1     1489730  \n",
              "2     3022423  \n",
              "3     3047126  \n",
              "4     2191355  \n",
              "...       ...  \n",
              "3851  6443999  \n",
              "3852  4145144  \n",
              "3853  3089026  \n",
              "3854  5803737  \n",
              "3855  5440967  \n",
              "\n",
              "[3856 rows x 7 columns]"
            ],
            "text/html": [
              "\n",
              "  <div id=\"df-dc2a9908-1573-4df0-a70e-05111cd3e773\">\n",
              "    <div class=\"colab-df-container\">\n",
              "      <div>\n",
              "<style scoped>\n",
              "    .dataframe tbody tr th:only-of-type {\n",
              "        vertical-align: middle;\n",
              "    }\n",
              "\n",
              "    .dataframe tbody tr th {\n",
              "        vertical-align: top;\n",
              "    }\n",
              "\n",
              "    .dataframe thead th {\n",
              "        text-align: right;\n",
              "    }\n",
              "</style>\n",
              "<table border=\"1\" class=\"dataframe\">\n",
              "  <thead>\n",
              "    <tr style=\"text-align: right;\">\n",
              "      <th></th>\n",
              "      <th>datetime</th>\n",
              "      <th>stock_code</th>\n",
              "      <th>open</th>\n",
              "      <th>high</th>\n",
              "      <th>low</th>\n",
              "      <th>close</th>\n",
              "      <th>volume</th>\n",
              "    </tr>\n",
              "  </thead>\n",
              "  <tbody>\n",
              "    <tr>\n",
              "      <th>0</th>\n",
              "      <td>2007-01-02 12:01:00</td>\n",
              "      <td>RELIND</td>\n",
              "      <td>318.47</td>\n",
              "      <td>321.00</td>\n",
              "      <td>317.37</td>\n",
              "      <td>319.85</td>\n",
              "      <td>1149902</td>\n",
              "    </tr>\n",
              "    <tr>\n",
              "      <th>1</th>\n",
              "      <td>2007-01-03 12:01:00</td>\n",
              "      <td>RELIND</td>\n",
              "      <td>320.81</td>\n",
              "      <td>322.20</td>\n",
              "      <td>318.55</td>\n",
              "      <td>320.71</td>\n",
              "      <td>1489730</td>\n",
              "    </tr>\n",
              "    <tr>\n",
              "      <th>2</th>\n",
              "      <td>2007-01-04 12:01:00</td>\n",
              "      <td>RELIND</td>\n",
              "      <td>321.98</td>\n",
              "      <td>324.33</td>\n",
              "      <td>318.94</td>\n",
              "      <td>319.76</td>\n",
              "      <td>3022423</td>\n",
              "    </tr>\n",
              "    <tr>\n",
              "      <th>3</th>\n",
              "      <td>2007-01-05 12:01:00</td>\n",
              "      <td>RELIND</td>\n",
              "      <td>318.47</td>\n",
              "      <td>327.14</td>\n",
              "      <td>318.47</td>\n",
              "      <td>321.55</td>\n",
              "      <td>3047126</td>\n",
              "    </tr>\n",
              "    <tr>\n",
              "      <th>4</th>\n",
              "      <td>2007-01-08 12:01:00</td>\n",
              "      <td>RELIND</td>\n",
              "      <td>322.92</td>\n",
              "      <td>322.92</td>\n",
              "      <td>316.50</td>\n",
              "      <td>318.90</td>\n",
              "      <td>2191355</td>\n",
              "    </tr>\n",
              "    <tr>\n",
              "      <th>...</th>\n",
              "      <td>...</td>\n",
              "      <td>...</td>\n",
              "      <td>...</td>\n",
              "      <td>...</td>\n",
              "      <td>...</td>\n",
              "      <td>...</td>\n",
              "      <td>...</td>\n",
              "    </tr>\n",
              "    <tr>\n",
              "      <th>3851</th>\n",
              "      <td>2022-11-01 12:11:00</td>\n",
              "      <td>RELIND</td>\n",
              "      <td>2600.00</td>\n",
              "      <td>2600.00</td>\n",
              "      <td>2508.00</td>\n",
              "      <td>2529.85</td>\n",
              "      <td>6443999</td>\n",
              "    </tr>\n",
              "    <tr>\n",
              "      <th>3852</th>\n",
              "      <td>2022-11-02 12:11:00</td>\n",
              "      <td>RELIND</td>\n",
              "      <td>2532.30</td>\n",
              "      <td>2550.20</td>\n",
              "      <td>2515.00</td>\n",
              "      <td>2545.65</td>\n",
              "      <td>4145144</td>\n",
              "    </tr>\n",
              "    <tr>\n",
              "      <th>3853</th>\n",
              "      <td>2022-11-03 12:11:00</td>\n",
              "      <td>RELIND</td>\n",
              "      <td>2529.85</td>\n",
              "      <td>2559.55</td>\n",
              "      <td>2525.05</td>\n",
              "      <td>2555.15</td>\n",
              "      <td>3089026</td>\n",
              "    </tr>\n",
              "    <tr>\n",
              "      <th>3854</th>\n",
              "      <td>2022-11-04 12:11:00</td>\n",
              "      <td>RELIND</td>\n",
              "      <td>2553.90</td>\n",
              "      <td>2600.00</td>\n",
              "      <td>2551.10</td>\n",
              "      <td>2592.75</td>\n",
              "      <td>5803737</td>\n",
              "    </tr>\n",
              "    <tr>\n",
              "      <th>3855</th>\n",
              "      <td>2022-11-07 12:11:00</td>\n",
              "      <td>RELIND</td>\n",
              "      <td>2591.00</td>\n",
              "      <td>2610.30</td>\n",
              "      <td>2574.00</td>\n",
              "      <td>2606.60</td>\n",
              "      <td>5440967</td>\n",
              "    </tr>\n",
              "  </tbody>\n",
              "</table>\n",
              "<p>3856 rows × 7 columns</p>\n",
              "</div>\n",
              "      <button class=\"colab-df-convert\" onclick=\"convertToInteractive('df-dc2a9908-1573-4df0-a70e-05111cd3e773')\"\n",
              "              title=\"Convert this dataframe to an interactive table.\"\n",
              "              style=\"display:none;\">\n",
              "        \n",
              "  <svg xmlns=\"http://www.w3.org/2000/svg\" height=\"24px\"viewBox=\"0 0 24 24\"\n",
              "       width=\"24px\">\n",
              "    <path d=\"M0 0h24v24H0V0z\" fill=\"none\"/>\n",
              "    <path d=\"M18.56 5.44l.94 2.06.94-2.06 2.06-.94-2.06-.94-.94-2.06-.94 2.06-2.06.94zm-11 1L8.5 8.5l.94-2.06 2.06-.94-2.06-.94L8.5 2.5l-.94 2.06-2.06.94zm10 10l.94 2.06.94-2.06 2.06-.94-2.06-.94-.94-2.06-.94 2.06-2.06.94z\"/><path d=\"M17.41 7.96l-1.37-1.37c-.4-.4-.92-.59-1.43-.59-.52 0-1.04.2-1.43.59L10.3 9.45l-7.72 7.72c-.78.78-.78 2.05 0 2.83L4 21.41c.39.39.9.59 1.41.59.51 0 1.02-.2 1.41-.59l7.78-7.78 2.81-2.81c.8-.78.8-2.07 0-2.86zM5.41 20L4 18.59l7.72-7.72 1.47 1.35L5.41 20z\"/>\n",
              "  </svg>\n",
              "      </button>\n",
              "      \n",
              "  <style>\n",
              "    .colab-df-container {\n",
              "      display:flex;\n",
              "      flex-wrap:wrap;\n",
              "      gap: 12px;\n",
              "    }\n",
              "\n",
              "    .colab-df-convert {\n",
              "      background-color: #E8F0FE;\n",
              "      border: none;\n",
              "      border-radius: 50%;\n",
              "      cursor: pointer;\n",
              "      display: none;\n",
              "      fill: #1967D2;\n",
              "      height: 32px;\n",
              "      padding: 0 0 0 0;\n",
              "      width: 32px;\n",
              "    }\n",
              "\n",
              "    .colab-df-convert:hover {\n",
              "      background-color: #E2EBFA;\n",
              "      box-shadow: 0px 1px 2px rgba(60, 64, 67, 0.3), 0px 1px 3px 1px rgba(60, 64, 67, 0.15);\n",
              "      fill: #174EA6;\n",
              "    }\n",
              "\n",
              "    [theme=dark] .colab-df-convert {\n",
              "      background-color: #3B4455;\n",
              "      fill: #D2E3FC;\n",
              "    }\n",
              "\n",
              "    [theme=dark] .colab-df-convert:hover {\n",
              "      background-color: #434B5C;\n",
              "      box-shadow: 0px 1px 3px 1px rgba(0, 0, 0, 0.15);\n",
              "      filter: drop-shadow(0px 1px 2px rgba(0, 0, 0, 0.3));\n",
              "      fill: #FFFFFF;\n",
              "    }\n",
              "  </style>\n",
              "\n",
              "      <script>\n",
              "        const buttonEl =\n",
              "          document.querySelector('#df-dc2a9908-1573-4df0-a70e-05111cd3e773 button.colab-df-convert');\n",
              "        buttonEl.style.display =\n",
              "          google.colab.kernel.accessAllowed ? 'block' : 'none';\n",
              "\n",
              "        async function convertToInteractive(key) {\n",
              "          const element = document.querySelector('#df-dc2a9908-1573-4df0-a70e-05111cd3e773');\n",
              "          const dataTable =\n",
              "            await google.colab.kernel.invokeFunction('convertToInteractive',\n",
              "                                                     [key], {});\n",
              "          if (!dataTable) return;\n",
              "\n",
              "          const docLinkHtml = 'Like what you see? Visit the ' +\n",
              "            '<a target=\"_blank\" href=https://colab.research.google.com/notebooks/data_table.ipynb>data table notebook</a>'\n",
              "            + ' to learn more about interactive tables.';\n",
              "          element.innerHTML = '';\n",
              "          dataTable['output_type'] = 'display_data';\n",
              "          await google.colab.output.renderOutput(dataTable, element);\n",
              "          const docLink = document.createElement('div');\n",
              "          docLink.innerHTML = docLinkHtml;\n",
              "          element.appendChild(docLink);\n",
              "        }\n",
              "      </script>\n",
              "    </div>\n",
              "  </div>\n",
              "  "
            ]
          },
          "metadata": {},
          "execution_count": 93
        }
      ]
    },
    {
      "cell_type": "code",
      "source": [
        "data['datetime'] =  pd.to_datetime(data['datetime'], infer_datetime_format=True)\n",
        "cols = ['datetime','open','high','low','close']\n",
        "data = data[cols]\n",
        "data = data.set_index(\"datetime\")\n",
        "\n",
        "holidays['date'] = holidays['date'].astype('datetime64[ns]')"
      ],
      "metadata": {
        "id": "1tU7f-2GrNoq"
      },
      "execution_count": 94,
      "outputs": []
    },
    {
      "cell_type": "code",
      "source": [
        "data"
      ],
      "metadata": {
        "colab": {
          "base_uri": "https://localhost:8080/",
          "height": 455
        },
        "id": "fjnzdVI8r8tu",
        "outputId": "fd4f9836-02cc-4464-ef1b-a26433e54acd"
      },
      "execution_count": 95,
      "outputs": [
        {
          "output_type": "execute_result",
          "data": {
            "text/plain": [
              "                        open     high      low    close\n",
              "datetime                                               \n",
              "2007-01-02 12:01:00   318.47   321.00   317.37   319.85\n",
              "2007-01-03 12:01:00   320.81   322.20   318.55   320.71\n",
              "2007-01-04 12:01:00   321.98   324.33   318.94   319.76\n",
              "2007-01-05 12:01:00   318.47   327.14   318.47   321.55\n",
              "2007-01-08 12:01:00   322.92   322.92   316.50   318.90\n",
              "...                      ...      ...      ...      ...\n",
              "2022-11-01 12:11:00  2600.00  2600.00  2508.00  2529.85\n",
              "2022-11-02 12:11:00  2532.30  2550.20  2515.00  2545.65\n",
              "2022-11-03 12:11:00  2529.85  2559.55  2525.05  2555.15\n",
              "2022-11-04 12:11:00  2553.90  2600.00  2551.10  2592.75\n",
              "2022-11-07 12:11:00  2591.00  2610.30  2574.00  2606.60\n",
              "\n",
              "[3856 rows x 4 columns]"
            ],
            "text/html": [
              "\n",
              "  <div id=\"df-ac74d2d3-506d-4254-837f-45fb143478b7\">\n",
              "    <div class=\"colab-df-container\">\n",
              "      <div>\n",
              "<style scoped>\n",
              "    .dataframe tbody tr th:only-of-type {\n",
              "        vertical-align: middle;\n",
              "    }\n",
              "\n",
              "    .dataframe tbody tr th {\n",
              "        vertical-align: top;\n",
              "    }\n",
              "\n",
              "    .dataframe thead th {\n",
              "        text-align: right;\n",
              "    }\n",
              "</style>\n",
              "<table border=\"1\" class=\"dataframe\">\n",
              "  <thead>\n",
              "    <tr style=\"text-align: right;\">\n",
              "      <th></th>\n",
              "      <th>open</th>\n",
              "      <th>high</th>\n",
              "      <th>low</th>\n",
              "      <th>close</th>\n",
              "    </tr>\n",
              "    <tr>\n",
              "      <th>datetime</th>\n",
              "      <th></th>\n",
              "      <th></th>\n",
              "      <th></th>\n",
              "      <th></th>\n",
              "    </tr>\n",
              "  </thead>\n",
              "  <tbody>\n",
              "    <tr>\n",
              "      <th>2007-01-02 12:01:00</th>\n",
              "      <td>318.47</td>\n",
              "      <td>321.00</td>\n",
              "      <td>317.37</td>\n",
              "      <td>319.85</td>\n",
              "    </tr>\n",
              "    <tr>\n",
              "      <th>2007-01-03 12:01:00</th>\n",
              "      <td>320.81</td>\n",
              "      <td>322.20</td>\n",
              "      <td>318.55</td>\n",
              "      <td>320.71</td>\n",
              "    </tr>\n",
              "    <tr>\n",
              "      <th>2007-01-04 12:01:00</th>\n",
              "      <td>321.98</td>\n",
              "      <td>324.33</td>\n",
              "      <td>318.94</td>\n",
              "      <td>319.76</td>\n",
              "    </tr>\n",
              "    <tr>\n",
              "      <th>2007-01-05 12:01:00</th>\n",
              "      <td>318.47</td>\n",
              "      <td>327.14</td>\n",
              "      <td>318.47</td>\n",
              "      <td>321.55</td>\n",
              "    </tr>\n",
              "    <tr>\n",
              "      <th>2007-01-08 12:01:00</th>\n",
              "      <td>322.92</td>\n",
              "      <td>322.92</td>\n",
              "      <td>316.50</td>\n",
              "      <td>318.90</td>\n",
              "    </tr>\n",
              "    <tr>\n",
              "      <th>...</th>\n",
              "      <td>...</td>\n",
              "      <td>...</td>\n",
              "      <td>...</td>\n",
              "      <td>...</td>\n",
              "    </tr>\n",
              "    <tr>\n",
              "      <th>2022-11-01 12:11:00</th>\n",
              "      <td>2600.00</td>\n",
              "      <td>2600.00</td>\n",
              "      <td>2508.00</td>\n",
              "      <td>2529.85</td>\n",
              "    </tr>\n",
              "    <tr>\n",
              "      <th>2022-11-02 12:11:00</th>\n",
              "      <td>2532.30</td>\n",
              "      <td>2550.20</td>\n",
              "      <td>2515.00</td>\n",
              "      <td>2545.65</td>\n",
              "    </tr>\n",
              "    <tr>\n",
              "      <th>2022-11-03 12:11:00</th>\n",
              "      <td>2529.85</td>\n",
              "      <td>2559.55</td>\n",
              "      <td>2525.05</td>\n",
              "      <td>2555.15</td>\n",
              "    </tr>\n",
              "    <tr>\n",
              "      <th>2022-11-04 12:11:00</th>\n",
              "      <td>2553.90</td>\n",
              "      <td>2600.00</td>\n",
              "      <td>2551.10</td>\n",
              "      <td>2592.75</td>\n",
              "    </tr>\n",
              "    <tr>\n",
              "      <th>2022-11-07 12:11:00</th>\n",
              "      <td>2591.00</td>\n",
              "      <td>2610.30</td>\n",
              "      <td>2574.00</td>\n",
              "      <td>2606.60</td>\n",
              "    </tr>\n",
              "  </tbody>\n",
              "</table>\n",
              "<p>3856 rows × 4 columns</p>\n",
              "</div>\n",
              "      <button class=\"colab-df-convert\" onclick=\"convertToInteractive('df-ac74d2d3-506d-4254-837f-45fb143478b7')\"\n",
              "              title=\"Convert this dataframe to an interactive table.\"\n",
              "              style=\"display:none;\">\n",
              "        \n",
              "  <svg xmlns=\"http://www.w3.org/2000/svg\" height=\"24px\"viewBox=\"0 0 24 24\"\n",
              "       width=\"24px\">\n",
              "    <path d=\"M0 0h24v24H0V0z\" fill=\"none\"/>\n",
              "    <path d=\"M18.56 5.44l.94 2.06.94-2.06 2.06-.94-2.06-.94-.94-2.06-.94 2.06-2.06.94zm-11 1L8.5 8.5l.94-2.06 2.06-.94-2.06-.94L8.5 2.5l-.94 2.06-2.06.94zm10 10l.94 2.06.94-2.06 2.06-.94-2.06-.94-.94-2.06-.94 2.06-2.06.94z\"/><path d=\"M17.41 7.96l-1.37-1.37c-.4-.4-.92-.59-1.43-.59-.52 0-1.04.2-1.43.59L10.3 9.45l-7.72 7.72c-.78.78-.78 2.05 0 2.83L4 21.41c.39.39.9.59 1.41.59.51 0 1.02-.2 1.41-.59l7.78-7.78 2.81-2.81c.8-.78.8-2.07 0-2.86zM5.41 20L4 18.59l7.72-7.72 1.47 1.35L5.41 20z\"/>\n",
              "  </svg>\n",
              "      </button>\n",
              "      \n",
              "  <style>\n",
              "    .colab-df-container {\n",
              "      display:flex;\n",
              "      flex-wrap:wrap;\n",
              "      gap: 12px;\n",
              "    }\n",
              "\n",
              "    .colab-df-convert {\n",
              "      background-color: #E8F0FE;\n",
              "      border: none;\n",
              "      border-radius: 50%;\n",
              "      cursor: pointer;\n",
              "      display: none;\n",
              "      fill: #1967D2;\n",
              "      height: 32px;\n",
              "      padding: 0 0 0 0;\n",
              "      width: 32px;\n",
              "    }\n",
              "\n",
              "    .colab-df-convert:hover {\n",
              "      background-color: #E2EBFA;\n",
              "      box-shadow: 0px 1px 2px rgba(60, 64, 67, 0.3), 0px 1px 3px 1px rgba(60, 64, 67, 0.15);\n",
              "      fill: #174EA6;\n",
              "    }\n",
              "\n",
              "    [theme=dark] .colab-df-convert {\n",
              "      background-color: #3B4455;\n",
              "      fill: #D2E3FC;\n",
              "    }\n",
              "\n",
              "    [theme=dark] .colab-df-convert:hover {\n",
              "      background-color: #434B5C;\n",
              "      box-shadow: 0px 1px 3px 1px rgba(0, 0, 0, 0.15);\n",
              "      filter: drop-shadow(0px 1px 2px rgba(0, 0, 0, 0.3));\n",
              "      fill: #FFFFFF;\n",
              "    }\n",
              "  </style>\n",
              "\n",
              "      <script>\n",
              "        const buttonEl =\n",
              "          document.querySelector('#df-ac74d2d3-506d-4254-837f-45fb143478b7 button.colab-df-convert');\n",
              "        buttonEl.style.display =\n",
              "          google.colab.kernel.accessAllowed ? 'block' : 'none';\n",
              "\n",
              "        async function convertToInteractive(key) {\n",
              "          const element = document.querySelector('#df-ac74d2d3-506d-4254-837f-45fb143478b7');\n",
              "          const dataTable =\n",
              "            await google.colab.kernel.invokeFunction('convertToInteractive',\n",
              "                                                     [key], {});\n",
              "          if (!dataTable) return;\n",
              "\n",
              "          const docLinkHtml = 'Like what you see? Visit the ' +\n",
              "            '<a target=\"_blank\" href=https://colab.research.google.com/notebooks/data_table.ipynb>data table notebook</a>'\n",
              "            + ' to learn more about interactive tables.';\n",
              "          element.innerHTML = '';\n",
              "          dataTable['output_type'] = 'display_data';\n",
              "          await google.colab.output.renderOutput(dataTable, element);\n",
              "          const docLink = document.createElement('div');\n",
              "          docLink.innerHTML = docLinkHtml;\n",
              "          element.appendChild(docLink);\n",
              "        }\n",
              "      </script>\n",
              "    </div>\n",
              "  </div>\n",
              "  "
            ]
          },
          "metadata": {},
          "execution_count": 95
        }
      ]
    },
    {
      "cell_type": "code",
      "source": [
        "t = data.groupby(pd.Grouper(freq='1D')).agg({\"open\": \"first\", \n",
        "                                             \"high\": \"max\", \n",
        "                                             \"low\": \"min\", \n",
        "                                             \"close\": \"last\"})\n",
        "t"
      ],
      "metadata": {
        "colab": {
          "base_uri": "https://localhost:8080/",
          "height": 455
        },
        "id": "L4lJDtivs2bG",
        "outputId": "64b01504-ad34-441c-ac6a-c757e96b39c2"
      },
      "execution_count": 96,
      "outputs": [
        {
          "output_type": "execute_result",
          "data": {
            "text/plain": [
              "               open     high      low    close\n",
              "datetime                                      \n",
              "2007-01-02   318.47   321.00   317.37   319.85\n",
              "2007-01-03   320.81   322.20   318.55   320.71\n",
              "2007-01-04   321.98   324.33   318.94   319.76\n",
              "2007-01-05   318.47   327.14   318.47   321.55\n",
              "2007-01-06      NaN      NaN      NaN      NaN\n",
              "...             ...      ...      ...      ...\n",
              "2022-11-03  2529.85  2559.55  2525.05  2555.15\n",
              "2022-11-04  2553.90  2600.00  2551.10  2592.75\n",
              "2022-11-05      NaN      NaN      NaN      NaN\n",
              "2022-11-06      NaN      NaN      NaN      NaN\n",
              "2022-11-07  2591.00  2610.30  2574.00  2606.60\n",
              "\n",
              "[5789 rows x 4 columns]"
            ],
            "text/html": [
              "\n",
              "  <div id=\"df-3d79977e-2b42-46b3-8957-a5e56a93caeb\">\n",
              "    <div class=\"colab-df-container\">\n",
              "      <div>\n",
              "<style scoped>\n",
              "    .dataframe tbody tr th:only-of-type {\n",
              "        vertical-align: middle;\n",
              "    }\n",
              "\n",
              "    .dataframe tbody tr th {\n",
              "        vertical-align: top;\n",
              "    }\n",
              "\n",
              "    .dataframe thead th {\n",
              "        text-align: right;\n",
              "    }\n",
              "</style>\n",
              "<table border=\"1\" class=\"dataframe\">\n",
              "  <thead>\n",
              "    <tr style=\"text-align: right;\">\n",
              "      <th></th>\n",
              "      <th>open</th>\n",
              "      <th>high</th>\n",
              "      <th>low</th>\n",
              "      <th>close</th>\n",
              "    </tr>\n",
              "    <tr>\n",
              "      <th>datetime</th>\n",
              "      <th></th>\n",
              "      <th></th>\n",
              "      <th></th>\n",
              "      <th></th>\n",
              "    </tr>\n",
              "  </thead>\n",
              "  <tbody>\n",
              "    <tr>\n",
              "      <th>2007-01-02</th>\n",
              "      <td>318.47</td>\n",
              "      <td>321.00</td>\n",
              "      <td>317.37</td>\n",
              "      <td>319.85</td>\n",
              "    </tr>\n",
              "    <tr>\n",
              "      <th>2007-01-03</th>\n",
              "      <td>320.81</td>\n",
              "      <td>322.20</td>\n",
              "      <td>318.55</td>\n",
              "      <td>320.71</td>\n",
              "    </tr>\n",
              "    <tr>\n",
              "      <th>2007-01-04</th>\n",
              "      <td>321.98</td>\n",
              "      <td>324.33</td>\n",
              "      <td>318.94</td>\n",
              "      <td>319.76</td>\n",
              "    </tr>\n",
              "    <tr>\n",
              "      <th>2007-01-05</th>\n",
              "      <td>318.47</td>\n",
              "      <td>327.14</td>\n",
              "      <td>318.47</td>\n",
              "      <td>321.55</td>\n",
              "    </tr>\n",
              "    <tr>\n",
              "      <th>2007-01-06</th>\n",
              "      <td>NaN</td>\n",
              "      <td>NaN</td>\n",
              "      <td>NaN</td>\n",
              "      <td>NaN</td>\n",
              "    </tr>\n",
              "    <tr>\n",
              "      <th>...</th>\n",
              "      <td>...</td>\n",
              "      <td>...</td>\n",
              "      <td>...</td>\n",
              "      <td>...</td>\n",
              "    </tr>\n",
              "    <tr>\n",
              "      <th>2022-11-03</th>\n",
              "      <td>2529.85</td>\n",
              "      <td>2559.55</td>\n",
              "      <td>2525.05</td>\n",
              "      <td>2555.15</td>\n",
              "    </tr>\n",
              "    <tr>\n",
              "      <th>2022-11-04</th>\n",
              "      <td>2553.90</td>\n",
              "      <td>2600.00</td>\n",
              "      <td>2551.10</td>\n",
              "      <td>2592.75</td>\n",
              "    </tr>\n",
              "    <tr>\n",
              "      <th>2022-11-05</th>\n",
              "      <td>NaN</td>\n",
              "      <td>NaN</td>\n",
              "      <td>NaN</td>\n",
              "      <td>NaN</td>\n",
              "    </tr>\n",
              "    <tr>\n",
              "      <th>2022-11-06</th>\n",
              "      <td>NaN</td>\n",
              "      <td>NaN</td>\n",
              "      <td>NaN</td>\n",
              "      <td>NaN</td>\n",
              "    </tr>\n",
              "    <tr>\n",
              "      <th>2022-11-07</th>\n",
              "      <td>2591.00</td>\n",
              "      <td>2610.30</td>\n",
              "      <td>2574.00</td>\n",
              "      <td>2606.60</td>\n",
              "    </tr>\n",
              "  </tbody>\n",
              "</table>\n",
              "<p>5789 rows × 4 columns</p>\n",
              "</div>\n",
              "      <button class=\"colab-df-convert\" onclick=\"convertToInteractive('df-3d79977e-2b42-46b3-8957-a5e56a93caeb')\"\n",
              "              title=\"Convert this dataframe to an interactive table.\"\n",
              "              style=\"display:none;\">\n",
              "        \n",
              "  <svg xmlns=\"http://www.w3.org/2000/svg\" height=\"24px\"viewBox=\"0 0 24 24\"\n",
              "       width=\"24px\">\n",
              "    <path d=\"M0 0h24v24H0V0z\" fill=\"none\"/>\n",
              "    <path d=\"M18.56 5.44l.94 2.06.94-2.06 2.06-.94-2.06-.94-.94-2.06-.94 2.06-2.06.94zm-11 1L8.5 8.5l.94-2.06 2.06-.94-2.06-.94L8.5 2.5l-.94 2.06-2.06.94zm10 10l.94 2.06.94-2.06 2.06-.94-2.06-.94-.94-2.06-.94 2.06-2.06.94z\"/><path d=\"M17.41 7.96l-1.37-1.37c-.4-.4-.92-.59-1.43-.59-.52 0-1.04.2-1.43.59L10.3 9.45l-7.72 7.72c-.78.78-.78 2.05 0 2.83L4 21.41c.39.39.9.59 1.41.59.51 0 1.02-.2 1.41-.59l7.78-7.78 2.81-2.81c.8-.78.8-2.07 0-2.86zM5.41 20L4 18.59l7.72-7.72 1.47 1.35L5.41 20z\"/>\n",
              "  </svg>\n",
              "      </button>\n",
              "      \n",
              "  <style>\n",
              "    .colab-df-container {\n",
              "      display:flex;\n",
              "      flex-wrap:wrap;\n",
              "      gap: 12px;\n",
              "    }\n",
              "\n",
              "    .colab-df-convert {\n",
              "      background-color: #E8F0FE;\n",
              "      border: none;\n",
              "      border-radius: 50%;\n",
              "      cursor: pointer;\n",
              "      display: none;\n",
              "      fill: #1967D2;\n",
              "      height: 32px;\n",
              "      padding: 0 0 0 0;\n",
              "      width: 32px;\n",
              "    }\n",
              "\n",
              "    .colab-df-convert:hover {\n",
              "      background-color: #E2EBFA;\n",
              "      box-shadow: 0px 1px 2px rgba(60, 64, 67, 0.3), 0px 1px 3px 1px rgba(60, 64, 67, 0.15);\n",
              "      fill: #174EA6;\n",
              "    }\n",
              "\n",
              "    [theme=dark] .colab-df-convert {\n",
              "      background-color: #3B4455;\n",
              "      fill: #D2E3FC;\n",
              "    }\n",
              "\n",
              "    [theme=dark] .colab-df-convert:hover {\n",
              "      background-color: #434B5C;\n",
              "      box-shadow: 0px 1px 3px 1px rgba(0, 0, 0, 0.15);\n",
              "      filter: drop-shadow(0px 1px 2px rgba(0, 0, 0, 0.3));\n",
              "      fill: #FFFFFF;\n",
              "    }\n",
              "  </style>\n",
              "\n",
              "      <script>\n",
              "        const buttonEl =\n",
              "          document.querySelector('#df-3d79977e-2b42-46b3-8957-a5e56a93caeb button.colab-df-convert');\n",
              "        buttonEl.style.display =\n",
              "          google.colab.kernel.accessAllowed ? 'block' : 'none';\n",
              "\n",
              "        async function convertToInteractive(key) {\n",
              "          const element = document.querySelector('#df-3d79977e-2b42-46b3-8957-a5e56a93caeb');\n",
              "          const dataTable =\n",
              "            await google.colab.kernel.invokeFunction('convertToInteractive',\n",
              "                                                     [key], {});\n",
              "          if (!dataTable) return;\n",
              "\n",
              "          const docLinkHtml = 'Like what you see? Visit the ' +\n",
              "            '<a target=\"_blank\" href=https://colab.research.google.com/notebooks/data_table.ipynb>data table notebook</a>'\n",
              "            + ' to learn more about interactive tables.';\n",
              "          element.innerHTML = '';\n",
              "          dataTable['output_type'] = 'display_data';\n",
              "          await google.colab.output.renderOutput(dataTable, element);\n",
              "          const docLink = document.createElement('div');\n",
              "          docLink.innerHTML = docLinkHtml;\n",
              "          element.appendChild(docLink);\n",
              "        }\n",
              "      </script>\n",
              "    </div>\n",
              "  </div>\n",
              "  "
            ]
          },
          "metadata": {},
          "execution_count": 96
        }
      ]
    },
    {
      "cell_type": "code",
      "source": [
        "\"\"\"t_before = t[t.index.date < datetime.date(2022,10,21)]\n",
        "t_after = t[t.index.date > datetime.date(2011,1,3)]\n",
        "\n",
        "t_before = t_before[t_before.index.time < datetime.time(15,30)]\n",
        "t_before = t_before[t_before.index.time > datetime.time(9,14)]\n",
        "\n",
        "t_after = t_after[t_after.index.time < datetime.time(15,30)]\n",
        "t_after = t_after[t_after.index.time > datetime.time(9,14)]\"\"\""
      ],
      "metadata": {
        "id": "vo4QSf0awjOD",
        "colab": {
          "base_uri": "https://localhost:8080/",
          "height": 70
        },
        "outputId": "f60e1c23-fdae-4438-b8c7-2244c70268cc"
      },
      "execution_count": 53,
      "outputs": [
        {
          "output_type": "execute_result",
          "data": {
            "text/plain": [
              "'t_before = t[t.index.date < datetime.date(2022,10,21)]\\nt_after = t[t.index.date > datetime.date(2011,1,3)]\\n\\nt_before = t_before[t_before.index.time < datetime.time(15,30)]\\nt_before = t_before[t_before.index.time > datetime.time(9,14)]\\n\\nt_after = t_after[t_after.index.time < datetime.time(15,30)]\\nt_after = t_after[t_after.index.time > datetime.time(9,14)]'"
            ],
            "application/vnd.google.colaboratory.intrinsic+json": {
              "type": "string"
            }
          },
          "metadata": {},
          "execution_count": 53
        }
      ]
    },
    {
      "cell_type": "code",
      "source": [
        "\"\"\"combined_1day = pd.concat([t_before, t_after])\n",
        "combined_1day = combined_1day.sort_index(ascending=True)\n",
        "combined_1day.isnull().sum()\"\"\""
      ],
      "metadata": {
        "colab": {
          "base_uri": "https://localhost:8080/",
          "height": 36
        },
        "id": "EdNYw3g-wm3L",
        "outputId": "42d33fa3-dab2-4905-c6bf-08da35aad7cf"
      },
      "execution_count": 54,
      "outputs": [
        {
          "output_type": "execute_result",
          "data": {
            "text/plain": [
              "'combined_1day = pd.concat([t_before, t_after])\\ncombined_1day = combined_1day.sort_index(ascending=True)\\ncombined_1day.isnull().sum()'"
            ],
            "application/vnd.google.colaboratory.intrinsic+json": {
              "type": "string"
            }
          },
          "metadata": {},
          "execution_count": 54
        }
      ]
    },
    {
      "cell_type": "code",
      "source": [
        "combined_1day = t"
      ],
      "metadata": {
        "id": "Qwb6idugXa0t"
      },
      "execution_count": 97,
      "outputs": []
    },
    {
      "cell_type": "code",
      "source": [
        "combined_1day_weekdays = combined_1day[combined_1day.index.dayofweek < 5]\n",
        "combined_1day_weekends = combined_1day[combined_1day.index.dayofweek > 4]\n",
        "\n",
        "combined_1day_weekends = combined_1day_weekends[combined_1day_weekends['open'].notna()]\n",
        "combined_1day = pd.concat([combined_1day_weekdays,combined_1day_weekends])\n",
        "combined_1day = combined_1day.sort_index(ascending=True)"
      ],
      "metadata": {
        "id": "GU59QcA2xWq4"
      },
      "execution_count": 98,
      "outputs": []
    },
    {
      "cell_type": "code",
      "source": [
        "combined_1day.isnull().sum()"
      ],
      "metadata": {
        "colab": {
          "base_uri": "https://localhost:8080/"
        },
        "id": "rVIIJvqszRIH",
        "outputId": "6c284d35-bb74-4bfb-ad85-608b5d39de30"
      },
      "execution_count": 99,
      "outputs": [
        {
          "output_type": "execute_result",
          "data": {
            "text/plain": [
              "open     293\n",
              "high     293\n",
              "low      293\n",
              "close    293\n",
              "dtype: int64"
            ]
          },
          "metadata": {},
          "execution_count": 99
        }
      ]
    },
    {
      "cell_type": "code",
      "source": [
        "holidays_list = pd.to_datetime(holidays['date']).dt.date.unique().tolist()\n",
        "combined_1day_holidays = combined_1day[combined_1day.index.floor('D').isin(holidays_list)]\n",
        "\n",
        "combined_1day_holidays = combined_1day_holidays[combined_1day_holidays['open'].notna()]\n",
        "\n",
        "combined_1day_nonholidays = combined_1day[~combined_1day.index.floor('D').isin(holidays_list)]\n",
        "combined_1day = pd.concat([combined_1day_nonholidays,combined_1day_holidays])\n",
        "combined_1day = combined_1day.sort_index(ascending=True)"
      ],
      "metadata": {
        "id": "5FgFHBm-2D5i"
      },
      "execution_count": 100,
      "outputs": []
    },
    {
      "cell_type": "code",
      "source": [
        "combined_1day.isnull().sum()"
      ],
      "metadata": {
        "colab": {
          "base_uri": "https://localhost:8080/"
        },
        "id": "X84VlB7a2fiQ",
        "outputId": "3c47a6e7-15d0-4aa7-a8e0-7fe17fc83490"
      },
      "execution_count": 101,
      "outputs": [
        {
          "output_type": "execute_result",
          "data": {
            "text/plain": [
              "open     76\n",
              "high     76\n",
              "low      76\n",
              "close    76\n",
              "dtype: int64"
            ]
          },
          "metadata": {},
          "execution_count": 101
        }
      ]
    },
    {
      "cell_type": "code",
      "source": [
        "missing_dates_list = pd.to_datetime(missing_dates['reliance']).dt.date.unique().tolist()\n",
        "combined_1day_missing_dates = combined_1day[combined_1day.index.floor('D').isin(missing_dates_list)]\n",
        "\n",
        "combined_1day_missing_dates = combined_1day_missing_dates[combined_1day_missing_dates['open'].notna()]\n",
        "\n",
        "combined_1day_nonmissing_dates = combined_1day[~combined_1day.index.floor('D').isin(missing_dates_list)]\n",
        "combined_1day = pd.concat([combined_1day_nonmissing_dates,combined_1day_missing_dates])\n",
        "combined_1day = combined_1day.sort_index(ascending=True)"
      ],
      "metadata": {
        "id": "avpdiodWoedZ"
      },
      "execution_count": 105,
      "outputs": []
    },
    {
      "cell_type": "code",
      "source": [
        "combined_1day.isnull().sum()"
      ],
      "metadata": {
        "colab": {
          "base_uri": "https://localhost:8080/"
        },
        "id": "DE_FaWyxoeax",
        "outputId": "b962ebbe-a8f2-4982-b673-793afd632584"
      },
      "execution_count": 106,
      "outputs": [
        {
          "output_type": "execute_result",
          "data": {
            "text/plain": [
              "open     0\n",
              "high     0\n",
              "low      0\n",
              "close    0\n",
              "dtype: int64"
            ]
          },
          "metadata": {},
          "execution_count": 106
        }
      ]
    },
    {
      "cell_type": "code",
      "source": [],
      "metadata": {
        "id": "5q7Vi3DSoeVx"
      },
      "execution_count": null,
      "outputs": []
    },
    {
      "cell_type": "code",
      "source": [],
      "metadata": {
        "id": "k7--fbVWoeTJ"
      },
      "execution_count": null,
      "outputs": []
    },
    {
      "cell_type": "code",
      "source": [],
      "metadata": {
        "id": "i3u2HjysoeQc"
      },
      "execution_count": null,
      "outputs": []
    },
    {
      "cell_type": "code",
      "source": [],
      "metadata": {
        "id": "-YpHANrmoeLm"
      },
      "execution_count": null,
      "outputs": []
    },
    {
      "cell_type": "code",
      "source": [],
      "metadata": {
        "id": "--zRFi1goeJL"
      },
      "execution_count": null,
      "outputs": []
    },
    {
      "cell_type": "code",
      "source": [
        "'''df = df[df.isnull().any(axis=1)] #Check for null rows\n",
        "\n",
        "#saving csv files\n",
        "df.to_csv('null_reliance.csv', encoding='utf-8')\n",
        "df.to_csv('null_nifty.csv', encoding='utf-8')\n",
        "\n",
        "#reading csv files\n",
        "reliance = pd.read_csv('null_reliance.csv') \n",
        "nifty = pd.read_csv('null_nifty.csv')\n",
        "\n",
        "#rename column of datetime to stock name\n",
        "reliance.rename(columns = {'datetime':'reliance'}, inplace = True)\n",
        "nifty.rename(columns = {'datetime':'reliniftyance'}, inplace = True)\n",
        "\n",
        "#taking 1st columns\n",
        "reliance = reliance['reliance']\n",
        "nifty = nifty['nifty']\n",
        "\n",
        "#concat both dataframe\n",
        "df1 = pd.concat([reliance, nifty], axis=1)\n",
        "\n",
        "#save\n",
        "df1.to_csv('missing_dates.csv', encoding='utf-8', index=False)'''"
      ],
      "metadata": {
        "id": "v8vSv20BJC8f"
      },
      "execution_count": 61,
      "outputs": []
    }
  ]
}