{
 "cells": [
  {
   "cell_type": "markdown",
   "metadata": {},
   "source": [
    "## Importing minute data"
   ]
  },
  {
   "cell_type": "code",
   "execution_count": 1,
   "metadata": {},
   "outputs": [],
   "source": [
    "import pandas as pd\n",
    "import datetime\n",
    "import numpy as np\n",
    "min_data = pd.read_csv('../Data/nifty/min/min_consolidated.csv')\n",
    "holidays = pd.read_csv('../Data/nifty/holidays.csv')\n"
   ]
  },
  {
   "cell_type": "code",
   "execution_count": 2,
   "metadata": {},
   "outputs": [],
   "source": [
    "min_data['datetime']=min_data['date']+\" \"+min_data['time']\n",
    "min_data['datetime'] =  pd.to_datetime(min_data['datetime'], infer_datetime_format=True)\n",
    "cols = ['datetime','open','high','low','close']\n",
    "min_data = min_data[cols]\n",
    "min_data = min_data.set_index(\"datetime\")\n",
    "# min_data.index = min_data.index - pd.Timedelta(minutes=1)\n",
    "\n",
    "holidays['date'] = holidays['date'].astype('datetime64[ns]')"
   ]
  },
  {
   "cell_type": "markdown",
   "metadata": {},
   "source": [
    "### 1 Minute\n",
    "### Filter with 09:55<time<3:30 before 31-12-2009, and values not null after 3:30 "
   ]
  },
  {
   "cell_type": "code",
   "execution_count": 3,
   "metadata": {},
   "outputs": [
    {
     "data": {
      "text/html": [
       "<div>\n",
       "<style scoped>\n",
       "    .dataframe tbody tr th:only-of-type {\n",
       "        vertical-align: middle;\n",
       "    }\n",
       "\n",
       "    .dataframe tbody tr th {\n",
       "        vertical-align: top;\n",
       "    }\n",
       "\n",
       "    .dataframe thead th {\n",
       "        text-align: right;\n",
       "    }\n",
       "</style>\n",
       "<table border=\"1\" class=\"dataframe\">\n",
       "  <thead>\n",
       "    <tr style=\"text-align: right;\">\n",
       "      <th></th>\n",
       "      <th>open</th>\n",
       "      <th>high</th>\n",
       "      <th>low</th>\n",
       "      <th>close</th>\n",
       "    </tr>\n",
       "    <tr>\n",
       "      <th>datetime</th>\n",
       "      <th></th>\n",
       "      <th></th>\n",
       "      <th></th>\n",
       "      <th></th>\n",
       "    </tr>\n",
       "  </thead>\n",
       "  <tbody>\n",
       "    <tr>\n",
       "      <th>2007-01-02 09:55:00</th>\n",
       "      <td>3978.2</td>\n",
       "      <td>3978.40</td>\n",
       "      <td>3966.40</td>\n",
       "      <td>3978.40</td>\n",
       "    </tr>\n",
       "    <tr>\n",
       "      <th>2007-01-02 09:56:00</th>\n",
       "      <td>3978.9</td>\n",
       "      <td>3980.70</td>\n",
       "      <td>3978.90</td>\n",
       "      <td>3980.40</td>\n",
       "    </tr>\n",
       "    <tr>\n",
       "      <th>2007-01-02 09:57:00</th>\n",
       "      <td>3980.3</td>\n",
       "      <td>3981.30</td>\n",
       "      <td>3979.15</td>\n",
       "      <td>3979.15</td>\n",
       "    </tr>\n",
       "    <tr>\n",
       "      <th>2007-01-02 09:58:00</th>\n",
       "      <td>3979.8</td>\n",
       "      <td>3980.15</td>\n",
       "      <td>3979.25</td>\n",
       "      <td>3980.15</td>\n",
       "    </tr>\n",
       "    <tr>\n",
       "      <th>2007-01-02 09:59:00</th>\n",
       "      <td>3979.5</td>\n",
       "      <td>3979.60</td>\n",
       "      <td>3979.30</td>\n",
       "      <td>3979.30</td>\n",
       "    </tr>\n",
       "    <tr>\n",
       "      <th>...</th>\n",
       "      <td>...</td>\n",
       "      <td>...</td>\n",
       "      <td>...</td>\n",
       "      <td>...</td>\n",
       "    </tr>\n",
       "    <tr>\n",
       "      <th>2021-12-31 15:26:00</th>\n",
       "      <td>17357.9</td>\n",
       "      <td>17358.50</td>\n",
       "      <td>17353.80</td>\n",
       "      <td>17356.30</td>\n",
       "    </tr>\n",
       "    <tr>\n",
       "      <th>2021-12-31 15:27:00</th>\n",
       "      <td>17356.1</td>\n",
       "      <td>17359.70</td>\n",
       "      <td>17355.60</td>\n",
       "      <td>17359.30</td>\n",
       "    </tr>\n",
       "    <tr>\n",
       "      <th>2021-12-31 15:28:00</th>\n",
       "      <td>17358.8</td>\n",
       "      <td>17360.50</td>\n",
       "      <td>17356.20</td>\n",
       "      <td>17359.80</td>\n",
       "    </tr>\n",
       "    <tr>\n",
       "      <th>2021-12-31 15:29:00</th>\n",
       "      <td>17359.8</td>\n",
       "      <td>17360.90</td>\n",
       "      <td>17351.10</td>\n",
       "      <td>17353.60</td>\n",
       "    </tr>\n",
       "    <tr>\n",
       "      <th>2021-12-31 15:30:00</th>\n",
       "      <td>17353.4</td>\n",
       "      <td>17365.40</td>\n",
       "      <td>17353.10</td>\n",
       "      <td>17364.30</td>\n",
       "    </tr>\n",
       "  </tbody>\n",
       "</table>\n",
       "<p>7887216 rows × 4 columns</p>\n",
       "</div>"
      ],
      "text/plain": [
       "                        open      high       low     close\n",
       "datetime                                                  \n",
       "2007-01-02 09:55:00   3978.2   3978.40   3966.40   3978.40\n",
       "2007-01-02 09:56:00   3978.9   3980.70   3978.90   3980.40\n",
       "2007-01-02 09:57:00   3980.3   3981.30   3979.15   3979.15\n",
       "2007-01-02 09:58:00   3979.8   3980.15   3979.25   3980.15\n",
       "2007-01-02 09:59:00   3979.5   3979.60   3979.30   3979.30\n",
       "...                      ...       ...       ...       ...\n",
       "2021-12-31 15:26:00  17357.9  17358.50  17353.80  17356.30\n",
       "2021-12-31 15:27:00  17356.1  17359.70  17355.60  17359.30\n",
       "2021-12-31 15:28:00  17358.8  17360.50  17356.20  17359.80\n",
       "2021-12-31 15:29:00  17359.8  17360.90  17351.10  17353.60\n",
       "2021-12-31 15:30:00  17353.4  17365.40  17353.10  17364.30\n",
       "\n",
       "[7887216 rows x 4 columns]"
      ]
     },
     "execution_count": 3,
     "metadata": {},
     "output_type": "execute_result"
    }
   ],
   "source": [
    "# group in 1-minute chunks. \n",
    "# res = min_data.resample('5Min', on='date_time_from_epoch').agg(d).reset_index()\n",
    "t = min_data.groupby(pd.Grouper(freq='1Min')).agg({\"open\": \"first\", \n",
    "                                             \"high\": \"max\", \n",
    "                                             \"low\": \"min\", \n",
    "                                             \"close\": \"last\"})\n",
    "# t.to_clipboard(excel = False, sep = ',')\n",
    "t"
   ]
  },
  {
   "cell_type": "code",
   "execution_count": 5,
   "metadata": {},
   "outputs": [],
   "source": [
    "## data between regular market hours\n",
    "t_before = t[t.index.date < datetime.date(2011,1,4)]\n",
    "t_after = t[t.index.date > datetime.date(2011,1,3)]\n",
    "\n",
    "t_before = t_before[t_before.index.time < datetime.time(15,31)]\n",
    "t_before = t_before[t_before.index.time > datetime.time(9,54)]\n",
    "# 2010-10-18\n",
    "t_after = t_after[t_after.index.time < datetime.time(15,31)]\n",
    "t_after = t_after[t_after.index.time > datetime.time(9,0)]"
   ]
  },
  {
   "cell_type": "code",
   "execution_count": 6,
   "metadata": {},
   "outputs": [],
   "source": [
    "## combined market hours data\n",
    "combined_1min = pd.concat([t_before, t_after])\n",
    "combined_1min = combined_1min.sort_index(ascending=True)\n",
    "\n",
    "## Data out of market hours\n",
    "others = t[~t.isin(combined_1min)].dropna()\n",
    "combined_1min = pd.concat([combined_1min, others], sort=False)\n",
    "combined_1min = combined_1min.sort_index(ascending=True)\n",
    "# combined_1min = combined_1min.drop_duplicates()\n",
    "# combined_1min = combined_1min.interpolate(method='linear')"
   ]
  },
  {
   "cell_type": "code",
   "execution_count": 7,
   "metadata": {},
   "outputs": [],
   "source": [
    "## Data in weekends and weekdays\n",
    "combined_1min_weekdays = combined_1min[combined_1min.index.dayofweek < 5]\n",
    "combined_1min_weekends = combined_1min[combined_1min.index.dayofweek > 4]\n",
    "## Data in weekends and not null  --> currently removing all null data. But need to remove na only if no values available on non-traded days\n",
    "    ## logic is to find unique days -> remove all null data on other days than in unique days.\n",
    "    #weekends_unique = pd.to_datetime(pd.DataFrame(combined_1min_weekends.index.floor('D').unique())['datetime']).dt.date.unique().tolist()\n",
    "combined_1min_weekends = combined_1min_weekends[combined_1min_weekends['open'].notna()]\n",
    "## Data in weekdays and not null in weekends\n",
    "combined_1min = pd.concat([combined_1min_weekdays,combined_1min_weekends])\n",
    "combined_1min = combined_1min.sort_index(ascending=True)\n"
   ]
  },
  {
   "cell_type": "code",
   "execution_count": 8,
   "metadata": {},
   "outputs": [],
   "source": [
    "## Data in holidays\n",
    "holidays_list = pd.to_datetime(holidays['date']).dt.date.unique().tolist()\n",
    "combined_1min_holidays = combined_1min[combined_1min.index.floor('D').isin(holidays_list)]\n",
    "## Data in holidays and not null  --> currently removing all null data. But need to remove na only if no values available on non-traded days\n",
    "    ## logic is to find unique days -> remove all null data on other days than in unique days.\n",
    "combined_1min_holidays = combined_1min_holidays[combined_1min_holidays['open'].notna()]\n",
    "## combining Data in holidays with original df\n",
    "combined_1min_nonholidays = combined_1min[~combined_1min.index.floor('D').isin(holidays_list)]\n",
    "combined_1min = pd.concat([combined_1min_nonholidays,combined_1min_holidays])\n",
    "combined_1min = combined_1min.sort_index(ascending=True)\n",
    "\n"
   ]
  },
  {
   "cell_type": "markdown",
   "metadata": {},
   "source": [
    "### Nifty Conclusion (After 1 minute adjustment)\n",
    "Till 2009-10-22 (including)-> Trading from 09:55\n",
    "\n",
    "2009-10-23(inc) to 2009-12-31(inc) -> Trading from 09:56\n",
    "\n",
    "2010-01-04 -> Trading from 09:31\n",
    "\n",
    "From 2010-01-05 (incl) -> Trading from 09:01\n",
    "\n",
    "2010-10-18 -> preopen at 09:08 and trading started from 09:16"
   ]
  },
  {
   "cell_type": "code",
   "execution_count": null,
   "metadata": {},
   "outputs": [],
   "source": [
    "def nifty_time_adjustment(time_index):\n",
    "    if time_index < datetime.datetime(2009,10,22,23,59,59):\n",
    "        return time_index\n",
    "    elif datetime.datetime(2009,10,23,00,1,1) < time_index < datetime.datetime(2009,12,31,23,59,59):\n",
    "        return time_index - pd.Timedelta(minutes=1)\n",
    "    elif time_index.date()==datetime.date(2010,1,4):\n",
    "        return time_index - pd.Timedelta(minutes=1)\n",
    "    elif datetime.datetime(2010,1,5,00,1,1) < time_index < datetime.datetime(2010,10,15,23,59,59):\n",
    "        return time_index - pd.Timedelta(minutes=1)\n",
    "    elif time_index > datetime.datetime(2010,10,18,00,1,1):\n",
    "        return time_index - pd.Timedelta(minutes=1)\n"
   ]
  },
  {
   "cell_type": "code",
   "execution_count": 9,
   "metadata": {},
   "outputs": [],
   "source": [
    "# Making time adjustments as per the inferences/conclusion mentioned above.\n",
    "combined_1min['date']= combined_1min.index\n",
    "combined_1min['date'] = combined_1min['date'].apply(lambda x:nifty_time_adjustment(x))\n",
    "combined_1min.set_index('date', inplace=True)"
   ]
  },
  {
   "cell_type": "code",
   "execution_count": 34,
   "metadata": {},
   "outputs": [],
   "source": [
    "## Remove data from 9:00 to 9:14 (pre-opening) from 2010-10-17\n",
    "combined_1min = combined_1min.drop(combined_1min[(datetime.time(8,59,0)<combined_1min.index.time) & (combined_1min.index.time<datetime.time(9,15,0)) & (combined_1min.index.date>datetime.date(2010,10,17))].index)\n",
    "## Remove data with NaN at 15:30\n",
    "combined_1min = combined_1min.drop(combined_1min[(combined_1min.index.time==datetime.time(15,30,00)) & (combined_1min.open.isnull())].index)"
   ]
  },
  {
   "cell_type": "code",
   "execution_count": 35,
   "metadata": {},
   "outputs": [],
   "source": [
    "combined_1min.to_csv(\"combined_1mins.csv\",index=True)"
   ]
  },
  {
   "cell_type": "markdown",
   "metadata": {},
   "source": [
    "### 5 Minutes Conversion\n",
    "### Filter with 09:55<time<3:30 before 31-12-2009, and values not null after 3:30 "
   ]
  },
  {
   "cell_type": "code",
   "execution_count": null,
   "metadata": {},
   "outputs": [],
   "source": [
    "# group in 5-minute chunks. \n",
    "# res = min_data.resample('5Min', on='date_time_from_epoch').agg(d).reset_index()\n",
    "t = min_data.groupby(pd.Grouper(freq='5Min')).agg({\"open\": \"first\", \n",
    "                                             \"high\": \"max\", \n",
    "                                             \"low\": \"min\", \n",
    "                                             \"close\": \"last\"})\n",
    "# t.to_clipboard(excel = False, sep = ',')\n",
    "t"
   ]
  },
  {
   "cell_type": "code",
   "execution_count": 44,
   "metadata": {},
   "outputs": [],
   "source": [
    "## data between regular market hours\n",
    "t_before = t[t.index.date < datetime.date(2011,1,4)]\n",
    "t_after = t[t.index.date > datetime.date(2011,1,3)]\n",
    "\n",
    "t_before = t_before[t_before.index.time < datetime.time(15,31)]\n",
    "t_before = t_before[t_before.index.time > datetime.time(9,54)]\n",
    "\n",
    "t_after = t_after[t_after.index.time < datetime.time(15,31)]\n",
    "t_after = t_after[t_after.index.time > datetime.time(9,0)]"
   ]
  },
  {
   "cell_type": "code",
   "execution_count": 48,
   "metadata": {},
   "outputs": [],
   "source": [
    "combined_5min = pd.concat([t_before, t_after])\n",
    "combined_5min = combined_5min.sort_index(ascending=True)\n",
    "\n",
    "others = t[~t.isin(combined_5min)].dropna()\n",
    "combined_5min = pd.concat([combined_5min, others], sort=False)\n",
    "combined_5min = combined_5min.sort_index(ascending=True)\n",
    "combined_5min = combined_5min.drop_duplicates()\n",
    "combined_5min = combined_5min.interpolate(method='linear')"
   ]
  },
  {
   "cell_type": "code",
   "execution_count": 49,
   "metadata": {},
   "outputs": [],
   "source": [
    "combined_5min.to_csv(\"combined_5mins.csv\",index=True)"
   ]
  },
  {
   "cell_type": "markdown",
   "metadata": {},
   "source": [
    "## 5min from 1 minute data"
   ]
  },
  {
   "cell_type": "code",
   "execution_count": 47,
   "metadata": {},
   "outputs": [
    {
     "data": {
      "text/html": [
       "<div>\n",
       "<style scoped>\n",
       "    .dataframe tbody tr th:only-of-type {\n",
       "        vertical-align: middle;\n",
       "    }\n",
       "\n",
       "    .dataframe tbody tr th {\n",
       "        vertical-align: top;\n",
       "    }\n",
       "\n",
       "    .dataframe thead th {\n",
       "        text-align: right;\n",
       "    }\n",
       "</style>\n",
       "<table border=\"1\" class=\"dataframe\">\n",
       "  <thead>\n",
       "    <tr style=\"text-align: right;\">\n",
       "      <th></th>\n",
       "      <th>open</th>\n",
       "      <th>high</th>\n",
       "      <th>low</th>\n",
       "      <th>close</th>\n",
       "    </tr>\n",
       "    <tr>\n",
       "      <th>datetime</th>\n",
       "      <th></th>\n",
       "      <th></th>\n",
       "      <th></th>\n",
       "      <th></th>\n",
       "    </tr>\n",
       "  </thead>\n",
       "  <tbody>\n",
       "    <tr>\n",
       "      <th>2007-01-02 09:50:00</th>\n",
       "      <td>3978.20</td>\n",
       "      <td>3978.40</td>\n",
       "      <td>3966.40</td>\n",
       "      <td>3978.40</td>\n",
       "    </tr>\n",
       "    <tr>\n",
       "      <th>2007-01-02 09:55:00</th>\n",
       "      <td>3978.90</td>\n",
       "      <td>3981.30</td>\n",
       "      <td>3976.95</td>\n",
       "      <td>3977.25</td>\n",
       "    </tr>\n",
       "    <tr>\n",
       "      <th>2007-01-02 10:00:00</th>\n",
       "      <td>3978.60</td>\n",
       "      <td>3980.10</td>\n",
       "      <td>3972.75</td>\n",
       "      <td>3973.20</td>\n",
       "    </tr>\n",
       "    <tr>\n",
       "      <th>2007-01-02 10:05:00</th>\n",
       "      <td>3967.00</td>\n",
       "      <td>3975.40</td>\n",
       "      <td>3965.55</td>\n",
       "      <td>3973.40</td>\n",
       "    </tr>\n",
       "    <tr>\n",
       "      <th>2007-01-02 10:10:00</th>\n",
       "      <td>3973.65</td>\n",
       "      <td>3973.65</td>\n",
       "      <td>3968.30</td>\n",
       "      <td>3971.05</td>\n",
       "    </tr>\n",
       "    <tr>\n",
       "      <th>...</th>\n",
       "      <td>...</td>\n",
       "      <td>...</td>\n",
       "      <td>...</td>\n",
       "      <td>...</td>\n",
       "    </tr>\n",
       "    <tr>\n",
       "      <th>2021-12-31 15:05:00</th>\n",
       "      <td>17354.30</td>\n",
       "      <td>17357.40</td>\n",
       "      <td>17350.00</td>\n",
       "      <td>17356.70</td>\n",
       "    </tr>\n",
       "    <tr>\n",
       "      <th>2021-12-31 15:10:00</th>\n",
       "      <td>17356.40</td>\n",
       "      <td>17357.20</td>\n",
       "      <td>17349.70</td>\n",
       "      <td>17351.40</td>\n",
       "    </tr>\n",
       "    <tr>\n",
       "      <th>2021-12-31 15:15:00</th>\n",
       "      <td>17351.40</td>\n",
       "      <td>17359.30</td>\n",
       "      <td>17350.10</td>\n",
       "      <td>17358.50</td>\n",
       "    </tr>\n",
       "    <tr>\n",
       "      <th>2021-12-31 15:20:00</th>\n",
       "      <td>17359.40</td>\n",
       "      <td>17363.20</td>\n",
       "      <td>17352.40</td>\n",
       "      <td>17357.90</td>\n",
       "    </tr>\n",
       "    <tr>\n",
       "      <th>2021-12-31 15:25:00</th>\n",
       "      <td>17357.90</td>\n",
       "      <td>17365.40</td>\n",
       "      <td>17351.10</td>\n",
       "      <td>17364.30</td>\n",
       "    </tr>\n",
       "  </tbody>\n",
       "</table>\n",
       "<p>1577444 rows × 4 columns</p>\n",
       "</div>"
      ],
      "text/plain": [
       "                         open      high       low     close\n",
       "datetime                                                   \n",
       "2007-01-02 09:50:00   3978.20   3978.40   3966.40   3978.40\n",
       "2007-01-02 09:55:00   3978.90   3981.30   3976.95   3977.25\n",
       "2007-01-02 10:00:00   3978.60   3980.10   3972.75   3973.20\n",
       "2007-01-02 10:05:00   3967.00   3975.40   3965.55   3973.40\n",
       "2007-01-02 10:10:00   3973.65   3973.65   3968.30   3971.05\n",
       "...                       ...       ...       ...       ...\n",
       "2021-12-31 15:05:00  17354.30  17357.40  17350.00  17356.70\n",
       "2021-12-31 15:10:00  17356.40  17357.20  17349.70  17351.40\n",
       "2021-12-31 15:15:00  17351.40  17359.30  17350.10  17358.50\n",
       "2021-12-31 15:20:00  17359.40  17363.20  17352.40  17357.90\n",
       "2021-12-31 15:25:00  17357.90  17365.40  17351.10  17364.30\n",
       "\n",
       "[1577444 rows x 4 columns]"
      ]
     },
     "execution_count": 47,
     "metadata": {},
     "output_type": "execute_result"
    }
   ],
   "source": [
    "# group in 1-minute chunks. \n",
    "# res = min_data.resample('5Min', on='date_time_from_epoch').agg(d).reset_index()\n",
    "t_5min = combined_1min.groupby(pd.Grouper(freq='5Min')).agg({\"open\": \"first\", \n",
    "                                             \"high\": \"max\", \n",
    "                                             \"low\": \"min\", \n",
    "                                             \"close\": \"last\"})\n",
    "# t.to_clipboard(excel = False, sep = ',')\n",
    "t_5min"
   ]
  },
  {
   "cell_type": "code",
   "execution_count": null,
   "metadata": {},
   "outputs": [],
   "source": []
  }
 ],
 "metadata": {
  "kernelspec": {
   "display_name": "Python 3 (ipykernel)",
   "language": "python",
   "name": "python3"
  },
  "language_info": {
   "codemirror_mode": {
    "name": "ipython",
    "version": 3
   },
   "file_extension": ".py",
   "mimetype": "text/x-python",
   "name": "python",
   "nbconvert_exporter": "python",
   "pygments_lexer": "ipython3",
   "version": "3.9.7"
  },
  "vscode": {
   "interpreter": {
    "hash": "3b0325f2a11d07fc1a588262f8d5f6180ddbb98a5032f49a27580865bf852632"
   }
  }
 },
 "nbformat": 4,
 "nbformat_minor": 2
}
