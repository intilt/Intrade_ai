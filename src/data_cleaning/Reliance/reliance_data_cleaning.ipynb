{
 "cells": [
  {
   "cell_type": "code",
   "execution_count": null,
   "metadata": {},
   "outputs": [],
   "source": [
    "import sys\n",
    "sys.path.insert(1, '..\\\\utils')"
   ]
  },
  {
   "cell_type": "code",
   "execution_count": null,
   "metadata": {},
   "outputs": [],
   "source": [
    "import pandas as pd\n",
    "import numpy as np\n",
    "import plotly.express as px\n",
    "\n",
    "from data_cleaning import get_missing_data_dates\n",
    "from data_manipulation import get_indicators, pattern_recognition"
   ]
  },
  {
   "cell_type": "code",
   "execution_count": null,
   "metadata": {},
   "outputs": [],
   "source": [
    "reliance_daily = pd.read_csv(\"../Data/Reliance/reliance_1day.csv\")\n",
    "reliance_daily_continous = get_missing_data_dates(\"Reliance\",reliance_daily)"
   ]
  },
  {
   "cell_type": "code",
   "execution_count": null,
   "metadata": {},
   "outputs": [],
   "source": [
    "reliance_indicator_data = get_indicators(reliance_daily_continous)\n",
    "reliance_indicator_data"
   ]
  },
  {
   "cell_type": "code",
   "execution_count": null,
   "metadata": {},
   "outputs": [],
   "source": [
    "fig = px.line(x=reliance_indicator_data.index, y=reliance_indicator_data[\"ema\"])\n",
    "fig.show()"
   ]
  },
  {
   "cell_type": "code",
   "execution_count": null,
   "metadata": {},
   "outputs": [],
   "source": [
    "fig = px.line(x=reliance_indicator_data.index, y=reliance_indicator_data[\"rsi\"])\n",
    "fig.show()"
   ]
  },
  {
   "cell_type": "code",
   "execution_count": null,
   "metadata": {},
   "outputs": [],
   "source": [
    "fig = px.line(x=reliance_indicator_data.index, y=reliance_indicator_data[\"adx\"])\n",
    "fig.show()"
   ]
  },
  {
   "cell_type": "code",
   "execution_count": null,
   "metadata": {},
   "outputs": [],
   "source": [
    "pattern_recognition(reliance_daily_continous)"
   ]
  }
 ],
 "metadata": {
  "kernelspec": {
   "display_name": "Python 3.10.0 64-bit",
   "language": "python",
   "name": "python3"
  },
  "language_info": {
   "name": "python",
   "version": "3.10.0"
  },
  "orig_nbformat": 4,
  "vscode": {
   "interpreter": {
    "hash": "a4eb17cfc315e1086e64ababfe7809be8f1c25c6da3a4a8e75049620772378dd"
   }
  }
 },
 "nbformat": 4,
 "nbformat_minor": 2
}
